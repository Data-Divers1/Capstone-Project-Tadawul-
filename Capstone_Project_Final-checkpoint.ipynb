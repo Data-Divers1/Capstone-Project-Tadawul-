{
 "cells": [
  {
   "cell_type": "markdown",
   "id": "166ad4d9",
   "metadata": {},
   "source": [
    "# SDA - Data Science Bootcamp"
   ]
  },
  {
   "cell_type": "markdown",
   "id": "5ac9d12e",
   "metadata": {},
   "source": [
    "# Capstone Project:Applying Machine Learning on Saudi Stock Exchange (Tadawul)"
   ]
  },
  {
   "cell_type": "markdown",
   "id": "1b1abd25",
   "metadata": {},
   "source": [
    "###  Predict Number of Trades on Tadawul"
   ]
  },
  {
   "cell_type": "markdown",
   "id": "0b3c576b",
   "metadata": {},
   "source": [
    "# Data Divers group\n",
    "## Zahra Almahdi - Fatima Alramadan - Asma Alasmary - Lena Baeshen - Razan Aljohani"
   ]
  },
  {
   "cell_type": "markdown",
   "id": "7ea108ce",
   "metadata": {},
   "source": [
    "###  Importing needed libraries \n",
    "Import all necessary packages for processing data."
   ]
  },
  {
   "cell_type": "code",
   "execution_count": 173,
   "id": "36dd199e",
   "metadata": {},
   "outputs": [],
   "source": [
    "# for data processing\n",
    "import numpy as np\n",
    "import pandas as pd\n",
    "import warnings\n",
    "warnings.filterwarnings('ignore')\n",
    "\n",
    "# for data visulization\n",
    "import matplotlib.pyplot as plt\n",
    "import seaborn as sns\n",
    "import plotly.express as px\n",
    "from plotly.subplots import make_subplots #Importing Plotly scientific graphing library for making subplots\n",
    "import plotly.graph_objects as go\n",
    "\n",
    "\n",
    "from sklearn.preprocessing import StandardScaler #For scalling numeric data\n",
    "from sklearn.model_selection import train_test_split #For splitting data\n",
    "\n",
    "#for modelling \n",
    "from sklearn.linear_model import LinearRegression \n",
    "from sklearn.linear_model import Ridge\n",
    "from sklearn.linear_model import Lasso\n",
    "from sklearn.ensemble import RandomForestRegressor\n",
    "from sklearn.model_selection import RandomizedSearchCV\n",
    "from sklearn.tree import DecisionTreeRegressor \n",
    "from sklearn.ensemble import RandomForestRegressor\n",
    "from sklearn.svm import SVR\n",
    "\n",
    "from sklearn.preprocessing import LabelEncoder\n",
    "\n",
    "# Cost Functions\n",
    "from sklearn.metrics import mean_squared_error\n",
    "from sklearn.metrics import mean_absolute_error\n",
    "\n",
    "\n",
    "#for evaluation\n",
    "from sklearn import metrics \n",
    "from sklearn.linear_model import LinearRegression\n",
    "from sklearn.model_selection import train_test_split\n",
    "from sklearn.metrics import mean_absolute_error\n",
    "from sklearn.model_selection import cross_val_score\n",
    "from sklearn.metrics import r2_score\n",
    "from sklearn.preprocessing import PolynomialFeatures\n",
    "from sklearn.model_selection import GridSearchCV\n",
    "\n",
    "import datetime as dt\n",
    "\n",
    "# model optimization \n",
    "from sklearn.model_selection import GridSearchCV\n",
    "from sklearn.model_selection import RandomizedSearchCV\n",
    "\n",
    "# Pipeline\n",
    "from sklearn.pipeline import Pipeline\n",
    "from sklearn.pipeline import make_pipeline\n",
    "from sklearn.compose import ColumnTransformer\n",
    "\n",
    "# Preprocessing\n",
    "from sklearn.impute import SimpleImputer\n",
    "from sklearn.preprocessing import StandardScaler"
   ]
  },
  {
   "cell_type": "markdown",
   "id": "46078907",
   "metadata": {},
   "source": [
    "###  Loading the dataset\n",
    "Reference: https://www.kaggle.com/datasets/salwaalzahrani/saudi-stock-exchange-tadawul  \n"
   ]
  },
  {
   "cell_type": "code",
   "execution_count": 5,
   "id": "d874e437",
   "metadata": {},
   "outputs": [
    {
     "data": {
      "text/html": [
       "<div>\n",
       "<style scoped>\n",
       "    .dataframe tbody tr th:only-of-type {\n",
       "        vertical-align: middle;\n",
       "    }\n",
       "\n",
       "    .dataframe tbody tr th {\n",
       "        vertical-align: top;\n",
       "    }\n",
       "\n",
       "    .dataframe thead th {\n",
       "        text-align: right;\n",
       "    }\n",
       "</style>\n",
       "<table border=\"1\" class=\"dataframe\">\n",
       "  <thead>\n",
       "    <tr style=\"text-align: right;\">\n",
       "      <th></th>\n",
       "      <th>symbol</th>\n",
       "      <th>name</th>\n",
       "      <th>trading_name</th>\n",
       "      <th>sectoer</th>\n",
       "      <th>date</th>\n",
       "      <th>open</th>\n",
       "      <th>high</th>\n",
       "      <th>low</th>\n",
       "      <th>close</th>\n",
       "      <th>change</th>\n",
       "      <th>perc_Change</th>\n",
       "      <th>volume_traded</th>\n",
       "      <th>value_traded</th>\n",
       "      <th>no_trades</th>\n",
       "    </tr>\n",
       "  </thead>\n",
       "  <tbody>\n",
       "    <tr>\n",
       "      <th>0</th>\n",
       "      <td>2030</td>\n",
       "      <td>Saudi Arabia Refineries Co.</td>\n",
       "      <td>SARCO</td>\n",
       "      <td>Energy</td>\n",
       "      <td>2020-03-05</td>\n",
       "      <td>35.55</td>\n",
       "      <td>35.85</td>\n",
       "      <td>34.90</td>\n",
       "      <td>34.90</td>\n",
       "      <td>-0.40</td>\n",
       "      <td>-1.13</td>\n",
       "      <td>436609.0</td>\n",
       "      <td>15399073.50</td>\n",
       "      <td>804.0</td>\n",
       "    </tr>\n",
       "    <tr>\n",
       "      <th>1</th>\n",
       "      <td>2030</td>\n",
       "      <td>Saudi Arabia Refineries Co.</td>\n",
       "      <td>SARCO</td>\n",
       "      <td>Energy</td>\n",
       "      <td>2020-03-04</td>\n",
       "      <td>34.70</td>\n",
       "      <td>35.65</td>\n",
       "      <td>34.50</td>\n",
       "      <td>35.30</td>\n",
       "      <td>0.25</td>\n",
       "      <td>0.71</td>\n",
       "      <td>737624.0</td>\n",
       "      <td>25981391.35</td>\n",
       "      <td>1268.0</td>\n",
       "    </tr>\n",
       "    <tr>\n",
       "      <th>2</th>\n",
       "      <td>2030</td>\n",
       "      <td>Saudi Arabia Refineries Co.</td>\n",
       "      <td>SARCO</td>\n",
       "      <td>Energy</td>\n",
       "      <td>2020-03-03</td>\n",
       "      <td>34.70</td>\n",
       "      <td>35.15</td>\n",
       "      <td>34.70</td>\n",
       "      <td>35.05</td>\n",
       "      <td>1.05</td>\n",
       "      <td>3.09</td>\n",
       "      <td>489831.0</td>\n",
       "      <td>17116413.40</td>\n",
       "      <td>854.0</td>\n",
       "    </tr>\n",
       "    <tr>\n",
       "      <th>3</th>\n",
       "      <td>2030</td>\n",
       "      <td>Saudi Arabia Refineries Co.</td>\n",
       "      <td>SARCO</td>\n",
       "      <td>Energy</td>\n",
       "      <td>2020-03-02</td>\n",
       "      <td>35.20</td>\n",
       "      <td>35.65</td>\n",
       "      <td>34.00</td>\n",
       "      <td>34.00</td>\n",
       "      <td>-0.55</td>\n",
       "      <td>-1.59</td>\n",
       "      <td>736157.0</td>\n",
       "      <td>25858700.60</td>\n",
       "      <td>1242.0</td>\n",
       "    </tr>\n",
       "    <tr>\n",
       "      <th>4</th>\n",
       "      <td>2030</td>\n",
       "      <td>Saudi Arabia Refineries Co.</td>\n",
       "      <td>SARCO</td>\n",
       "      <td>Energy</td>\n",
       "      <td>2020-03-01</td>\n",
       "      <td>35.35</td>\n",
       "      <td>35.60</td>\n",
       "      <td>34.25</td>\n",
       "      <td>34.55</td>\n",
       "      <td>-2.05</td>\n",
       "      <td>-5.60</td>\n",
       "      <td>738685.0</td>\n",
       "      <td>25747967.55</td>\n",
       "      <td>1625.0</td>\n",
       "    </tr>\n",
       "  </tbody>\n",
       "</table>\n",
       "</div>"
      ],
      "text/plain": [
       "   symbol                         name trading_name  sectoer        date  \\\n",
       "0    2030  Saudi Arabia Refineries Co.         SARCO  Energy  2020-03-05   \n",
       "1    2030  Saudi Arabia Refineries Co.         SARCO  Energy  2020-03-04   \n",
       "2    2030  Saudi Arabia Refineries Co.         SARCO  Energy  2020-03-03   \n",
       "3    2030  Saudi Arabia Refineries Co.         SARCO  Energy  2020-03-02   \n",
       "4    2030  Saudi Arabia Refineries Co.         SARCO  Energy  2020-03-01   \n",
       "\n",
       "    open   high    low  close  change  perc_Change  volume_traded   \\\n",
       "0  35.55  35.85  34.90  34.90   -0.40        -1.13        436609.0   \n",
       "1  34.70  35.65  34.50  35.30    0.25         0.71        737624.0   \n",
       "2  34.70  35.15  34.70  35.05    1.05         3.09        489831.0   \n",
       "3  35.20  35.65  34.00  34.00   -0.55        -1.59        736157.0   \n",
       "4  35.35  35.60  34.25  34.55   -2.05        -5.60        738685.0   \n",
       "\n",
       "   value_traded  no_trades   \n",
       "0   15399073.50       804.0  \n",
       "1   25981391.35      1268.0  \n",
       "2   17116413.40       854.0  \n",
       "3   25858700.60      1242.0  \n",
       "4   25747967.55      1625.0  "
      ]
     },
     "execution_count": 5,
     "metadata": {},
     "output_type": "execute_result"
    }
   ],
   "source": [
    "# Create a string contianing the path to your data\n",
    "CSV =\"C:/Users/misza/OneDrive/سطح المكتب/data/archive (7)/Tadawul_stcks.csv\"\n",
    "\n",
    "# Save the data to a variable named df_csv\n",
    "df = pd.read_csv(CSV)\n",
    "\n",
    "# look frist five rows of the data\n",
    "df.head()"
   ]
  },
  {
   "cell_type": "code",
   "execution_count": 6,
   "id": "c6f26b69",
   "metadata": {},
   "outputs": [
    {
     "data": {
      "text/html": [
       "<div>\n",
       "<style scoped>\n",
       "    .dataframe tbody tr th:only-of-type {\n",
       "        vertical-align: middle;\n",
       "    }\n",
       "\n",
       "    .dataframe tbody tr th {\n",
       "        vertical-align: top;\n",
       "    }\n",
       "\n",
       "    .dataframe thead th {\n",
       "        text-align: right;\n",
       "    }\n",
       "</style>\n",
       "<table border=\"1\" class=\"dataframe\">\n",
       "  <thead>\n",
       "    <tr style=\"text-align: right;\">\n",
       "      <th></th>\n",
       "      <th>symbol</th>\n",
       "      <th>name</th>\n",
       "      <th>trading_name</th>\n",
       "      <th>sectoer</th>\n",
       "      <th>date</th>\n",
       "      <th>open</th>\n",
       "      <th>high</th>\n",
       "      <th>low</th>\n",
       "      <th>close</th>\n",
       "      <th>change</th>\n",
       "      <th>perc_Change</th>\n",
       "      <th>volume_traded</th>\n",
       "      <th>value_traded</th>\n",
       "      <th>no_trades</th>\n",
       "    </tr>\n",
       "  </thead>\n",
       "  <tbody>\n",
       "    <tr>\n",
       "      <th>593814</th>\n",
       "      <td>4321</td>\n",
       "      <td>Arabian Centres Co.</td>\n",
       "      <td>ALMRAKEZ</td>\n",
       "      <td>Real Estate</td>\n",
       "      <td>2019-05-28</td>\n",
       "      <td>22.9</td>\n",
       "      <td>22.90</td>\n",
       "      <td>21.62</td>\n",
       "      <td>22.50</td>\n",
       "      <td>0.00</td>\n",
       "      <td>0.00</td>\n",
       "      <td>1860532.0</td>\n",
       "      <td>4.149566e+07</td>\n",
       "      <td>2023.0</td>\n",
       "    </tr>\n",
       "    <tr>\n",
       "      <th>593815</th>\n",
       "      <td>4321</td>\n",
       "      <td>Arabian Centres Co.</td>\n",
       "      <td>ALMRAKEZ</td>\n",
       "      <td>Real Estate</td>\n",
       "      <td>2019-05-27</td>\n",
       "      <td>23.3</td>\n",
       "      <td>23.32</td>\n",
       "      <td>22.24</td>\n",
       "      <td>22.50</td>\n",
       "      <td>-0.84</td>\n",
       "      <td>-3.60</td>\n",
       "      <td>4905676.0</td>\n",
       "      <td>1.114168e+08</td>\n",
       "      <td>3259.0</td>\n",
       "    </tr>\n",
       "    <tr>\n",
       "      <th>593816</th>\n",
       "      <td>4321</td>\n",
       "      <td>Arabian Centres Co.</td>\n",
       "      <td>ALMRAKEZ</td>\n",
       "      <td>Real Estate</td>\n",
       "      <td>2019-05-26</td>\n",
       "      <td>24.6</td>\n",
       "      <td>24.60</td>\n",
       "      <td>23.30</td>\n",
       "      <td>23.34</td>\n",
       "      <td>-1.16</td>\n",
       "      <td>-4.73</td>\n",
       "      <td>3908215.0</td>\n",
       "      <td>9.269862e+07</td>\n",
       "      <td>2672.0</td>\n",
       "    </tr>\n",
       "    <tr>\n",
       "      <th>593817</th>\n",
       "      <td>4321</td>\n",
       "      <td>Arabian Centres Co.</td>\n",
       "      <td>ALMRAKEZ</td>\n",
       "      <td>Real Estate</td>\n",
       "      <td>2019-05-23</td>\n",
       "      <td>24.8</td>\n",
       "      <td>25.00</td>\n",
       "      <td>24.34</td>\n",
       "      <td>24.50</td>\n",
       "      <td>-0.50</td>\n",
       "      <td>-2.00</td>\n",
       "      <td>4078214.0</td>\n",
       "      <td>1.002221e+08</td>\n",
       "      <td>5571.0</td>\n",
       "    </tr>\n",
       "    <tr>\n",
       "      <th>593818</th>\n",
       "      <td>4321</td>\n",
       "      <td>Arabian Centres Co.</td>\n",
       "      <td>ALMRAKEZ</td>\n",
       "      <td>Real Estate</td>\n",
       "      <td>2019-05-22</td>\n",
       "      <td>26.0</td>\n",
       "      <td>26.10</td>\n",
       "      <td>23.60</td>\n",
       "      <td>25.00</td>\n",
       "      <td>-1.00</td>\n",
       "      <td>-3.85</td>\n",
       "      <td>14220388.0</td>\n",
       "      <td>3.502633e+08</td>\n",
       "      <td>7183.0</td>\n",
       "    </tr>\n",
       "  </tbody>\n",
       "</table>\n",
       "</div>"
      ],
      "text/plain": [
       "        symbol                 name trading_name       sectoer        date  \\\n",
       "593814    4321  Arabian Centres Co.      ALMRAKEZ  Real Estate  2019-05-28   \n",
       "593815    4321  Arabian Centres Co.      ALMRAKEZ  Real Estate  2019-05-27   \n",
       "593816    4321  Arabian Centres Co.      ALMRAKEZ  Real Estate  2019-05-26   \n",
       "593817    4321  Arabian Centres Co.      ALMRAKEZ  Real Estate  2019-05-23   \n",
       "593818    4321  Arabian Centres Co.      ALMRAKEZ  Real Estate  2019-05-22   \n",
       "\n",
       "        open   high    low  close  change  perc_Change  volume_traded   \\\n",
       "593814  22.9  22.90  21.62  22.50    0.00         0.00       1860532.0   \n",
       "593815  23.3  23.32  22.24  22.50   -0.84        -3.60       4905676.0   \n",
       "593816  24.6  24.60  23.30  23.34   -1.16        -4.73       3908215.0   \n",
       "593817  24.8  25.00  24.34  24.50   -0.50        -2.00       4078214.0   \n",
       "593818  26.0  26.10  23.60  25.00   -1.00        -3.85      14220388.0   \n",
       "\n",
       "        value_traded  no_trades   \n",
       "593814  4.149566e+07      2023.0  \n",
       "593815  1.114168e+08      3259.0  \n",
       "593816  9.269862e+07      2672.0  \n",
       "593817  1.002221e+08      5571.0  \n",
       "593818  3.502633e+08      7183.0  "
      ]
     },
     "execution_count": 6,
     "metadata": {},
     "output_type": "execute_result"
    }
   ],
   "source": [
    "# look last five rows of the data\n",
    "df.tail()"
   ]
  },
  {
   "cell_type": "code",
   "execution_count": 7,
   "id": "d6c21339",
   "metadata": {},
   "outputs": [
    {
     "data": {
      "text/plain": [
       "(593819, 14)"
      ]
     },
     "execution_count": 7,
     "metadata": {},
     "output_type": "execute_result"
    }
   ],
   "source": [
    "# Check the shape of original dataset\n",
    "df.shape"
   ]
  },
  {
   "cell_type": "code",
   "execution_count": 8,
   "id": "784d7187",
   "metadata": {},
   "outputs": [
    {
     "data": {
      "text/plain": [
       "8313466"
      ]
     },
     "execution_count": 8,
     "metadata": {},
     "output_type": "execute_result"
    }
   ],
   "source": [
    "# Check the size of original dataset\n",
    "df.size"
   ]
  },
  {
   "cell_type": "markdown",
   "id": "3639a6ac",
   "metadata": {},
   "source": [
    "## Stage1. Data Cleaning\n",
    "Identifying and handling of inconsistent or inaccurate records from dataset\n"
   ]
  },
  {
   "cell_type": "code",
   "execution_count": 9,
   "id": "e61e0b53",
   "metadata": {},
   "outputs": [],
   "source": [
    "# Take the latests datasets\n",
    "df=df.loc[df.date >'2010-01-01',:]"
   ]
  },
  {
   "cell_type": "code",
   "execution_count": 10,
   "id": "4fe36a29",
   "metadata": {},
   "outputs": [
    {
     "data": {
      "text/plain": [
       "(414797, 14)"
      ]
     },
     "execution_count": 10,
     "metadata": {},
     "output_type": "execute_result"
    }
   ],
   "source": [
    "# Chech the shape \n",
    "df.shape"
   ]
  },
  {
   "cell_type": "code",
   "execution_count": 11,
   "id": "7bf2c3b6",
   "metadata": {},
   "outputs": [
    {
     "data": {
      "text/plain": [
       "5807158"
      ]
     },
     "execution_count": 11,
     "metadata": {},
     "output_type": "execute_result"
    }
   ],
   "source": [
    "# Chech the size \n",
    "df.size"
   ]
  },
  {
   "cell_type": "code",
   "execution_count": 12,
   "id": "f6232e5f",
   "metadata": {},
   "outputs": [
    {
     "data": {
      "text/html": [
       "<div>\n",
       "<style scoped>\n",
       "    .dataframe tbody tr th:only-of-type {\n",
       "        vertical-align: middle;\n",
       "    }\n",
       "\n",
       "    .dataframe tbody tr th {\n",
       "        vertical-align: top;\n",
       "    }\n",
       "\n",
       "    .dataframe thead th {\n",
       "        text-align: right;\n",
       "    }\n",
       "</style>\n",
       "<table border=\"1\" class=\"dataframe\">\n",
       "  <thead>\n",
       "    <tr style=\"text-align: right;\">\n",
       "      <th></th>\n",
       "      <th>symbol</th>\n",
       "      <th>open</th>\n",
       "      <th>high</th>\n",
       "      <th>low</th>\n",
       "      <th>close</th>\n",
       "      <th>change</th>\n",
       "      <th>perc_Change</th>\n",
       "      <th>volume_traded</th>\n",
       "      <th>value_traded</th>\n",
       "      <th>no_trades</th>\n",
       "    </tr>\n",
       "  </thead>\n",
       "  <tbody>\n",
       "    <tr>\n",
       "      <th>symbol</th>\n",
       "      <td>1.000000</td>\n",
       "      <td>0.006004</td>\n",
       "      <td>0.008069</td>\n",
       "      <td>0.004226</td>\n",
       "      <td>0.003533</td>\n",
       "      <td>-0.000824</td>\n",
       "      <td>0.000456</td>\n",
       "      <td>-0.062894</td>\n",
       "      <td>-0.059544</td>\n",
       "      <td>0.047149</td>\n",
       "    </tr>\n",
       "    <tr>\n",
       "      <th>open</th>\n",
       "      <td>0.006004</td>\n",
       "      <td>1.000000</td>\n",
       "      <td>0.999679</td>\n",
       "      <td>0.999685</td>\n",
       "      <td>0.999487</td>\n",
       "      <td>-0.013327</td>\n",
       "      <td>-0.004189</td>\n",
       "      <td>-0.086750</td>\n",
       "      <td>0.080255</td>\n",
       "      <td>0.052996</td>\n",
       "    </tr>\n",
       "    <tr>\n",
       "      <th>high</th>\n",
       "      <td>0.008069</td>\n",
       "      <td>0.999679</td>\n",
       "      <td>1.000000</td>\n",
       "      <td>0.999430</td>\n",
       "      <td>0.999679</td>\n",
       "      <td>0.000269</td>\n",
       "      <td>0.005933</td>\n",
       "      <td>-0.085117</td>\n",
       "      <td>0.084041</td>\n",
       "      <td>0.059375</td>\n",
       "    </tr>\n",
       "    <tr>\n",
       "      <th>low</th>\n",
       "      <td>0.004226</td>\n",
       "      <td>0.999685</td>\n",
       "      <td>0.999430</td>\n",
       "      <td>1.000000</td>\n",
       "      <td>0.999718</td>\n",
       "      <td>-0.000535</td>\n",
       "      <td>0.003638</td>\n",
       "      <td>-0.087603</td>\n",
       "      <td>0.078624</td>\n",
       "      <td>0.049954</td>\n",
       "    </tr>\n",
       "    <tr>\n",
       "      <th>close</th>\n",
       "      <td>0.003533</td>\n",
       "      <td>0.999487</td>\n",
       "      <td>0.999679</td>\n",
       "      <td>0.999718</td>\n",
       "      <td>1.000000</td>\n",
       "      <td>0.013006</td>\n",
       "      <td>0.012503</td>\n",
       "      <td>-0.084747</td>\n",
       "      <td>0.082925</td>\n",
       "      <td>0.055507</td>\n",
       "    </tr>\n",
       "    <tr>\n",
       "      <th>change</th>\n",
       "      <td>-0.000824</td>\n",
       "      <td>-0.013327</td>\n",
       "      <td>0.000269</td>\n",
       "      <td>-0.000535</td>\n",
       "      <td>0.013006</td>\n",
       "      <td>1.000000</td>\n",
       "      <td>0.610739</td>\n",
       "      <td>0.025536</td>\n",
       "      <td>0.063483</td>\n",
       "      <td>0.126857</td>\n",
       "    </tr>\n",
       "    <tr>\n",
       "      <th>perc_Change</th>\n",
       "      <td>0.000456</td>\n",
       "      <td>-0.004189</td>\n",
       "      <td>0.005933</td>\n",
       "      <td>0.003638</td>\n",
       "      <td>0.012503</td>\n",
       "      <td>0.610739</td>\n",
       "      <td>1.000000</td>\n",
       "      <td>0.068079</td>\n",
       "      <td>0.110648</td>\n",
       "      <td>0.218131</td>\n",
       "    </tr>\n",
       "    <tr>\n",
       "      <th>volume_traded</th>\n",
       "      <td>-0.062894</td>\n",
       "      <td>-0.086750</td>\n",
       "      <td>-0.085117</td>\n",
       "      <td>-0.087603</td>\n",
       "      <td>-0.084747</td>\n",
       "      <td>0.025536</td>\n",
       "      <td>0.068079</td>\n",
       "      <td>1.000000</td>\n",
       "      <td>0.753435</td>\n",
       "      <td>0.471998</td>\n",
       "    </tr>\n",
       "    <tr>\n",
       "      <th>value_traded</th>\n",
       "      <td>-0.059544</td>\n",
       "      <td>0.080255</td>\n",
       "      <td>0.084041</td>\n",
       "      <td>0.078624</td>\n",
       "      <td>0.082925</td>\n",
       "      <td>0.063483</td>\n",
       "      <td>0.110648</td>\n",
       "      <td>0.753435</td>\n",
       "      <td>1.000000</td>\n",
       "      <td>0.635406</td>\n",
       "    </tr>\n",
       "    <tr>\n",
       "      <th>no_trades</th>\n",
       "      <td>0.047149</td>\n",
       "      <td>0.052996</td>\n",
       "      <td>0.059375</td>\n",
       "      <td>0.049954</td>\n",
       "      <td>0.055507</td>\n",
       "      <td>0.126857</td>\n",
       "      <td>0.218131</td>\n",
       "      <td>0.471998</td>\n",
       "      <td>0.635406</td>\n",
       "      <td>1.000000</td>\n",
       "    </tr>\n",
       "  </tbody>\n",
       "</table>\n",
       "</div>"
      ],
      "text/plain": [
       "                  symbol      open      high       low     close    change  \\\n",
       "symbol          1.000000  0.006004  0.008069  0.004226  0.003533 -0.000824   \n",
       "open            0.006004  1.000000  0.999679  0.999685  0.999487 -0.013327   \n",
       "high            0.008069  0.999679  1.000000  0.999430  0.999679  0.000269   \n",
       "low             0.004226  0.999685  0.999430  1.000000  0.999718 -0.000535   \n",
       "close           0.003533  0.999487  0.999679  0.999718  1.000000  0.013006   \n",
       "change         -0.000824 -0.013327  0.000269 -0.000535  0.013006  1.000000   \n",
       "perc_Change     0.000456 -0.004189  0.005933  0.003638  0.012503  0.610739   \n",
       "volume_traded  -0.062894 -0.086750 -0.085117 -0.087603 -0.084747  0.025536   \n",
       "value_traded   -0.059544  0.080255  0.084041  0.078624  0.082925  0.063483   \n",
       "no_trades       0.047149  0.052996  0.059375  0.049954  0.055507  0.126857   \n",
       "\n",
       "                perc_Change  volume_traded   value_traded  no_trades   \n",
       "symbol             0.000456       -0.062894     -0.059544    0.047149  \n",
       "open              -0.004189       -0.086750      0.080255    0.052996  \n",
       "high               0.005933       -0.085117      0.084041    0.059375  \n",
       "low                0.003638       -0.087603      0.078624    0.049954  \n",
       "close              0.012503       -0.084747      0.082925    0.055507  \n",
       "change             0.610739        0.025536      0.063483    0.126857  \n",
       "perc_Change        1.000000        0.068079      0.110648    0.218131  \n",
       "volume_traded      0.068079        1.000000      0.753435    0.471998  \n",
       "value_traded       0.110648        0.753435      1.000000    0.635406  \n",
       "no_trades          0.218131        0.471998      0.635406    1.000000  "
      ]
     },
     "execution_count": 12,
     "metadata": {},
     "output_type": "execute_result"
    }
   ],
   "source": [
    "# Compute correlation of data\n",
    "df.corr()"
   ]
  },
  {
   "cell_type": "code",
   "execution_count": 13,
   "id": "2c3592b2",
   "metadata": {},
   "outputs": [
    {
     "name": "stdout",
     "output_type": "stream",
     "text": [
      "<class 'pandas.core.frame.DataFrame'>\n",
      "Int64Index: 414797 entries, 0 to 593818\n",
      "Data columns (total 14 columns):\n",
      " #   Column          Non-Null Count   Dtype  \n",
      "---  ------          --------------   -----  \n",
      " 0   symbol          414797 non-null  int64  \n",
      " 1   name            414797 non-null  object \n",
      " 2   trading_name    414797 non-null  object \n",
      " 3   sectoer         414797 non-null  object \n",
      " 4   date            414797 non-null  object \n",
      " 5   open            410147 non-null  float64\n",
      " 6   high            410147 non-null  float64\n",
      " 7   low             410147 non-null  float64\n",
      " 8   close           414797 non-null  float64\n",
      " 9   change          414797 non-null  float64\n",
      " 10  perc_Change     414797 non-null  float64\n",
      " 11  volume_traded   414797 non-null  float64\n",
      " 12  value_traded    414797 non-null  float64\n",
      " 13  no_trades       409713 non-null  float64\n",
      "dtypes: float64(9), int64(1), object(4)\n",
      "memory usage: 47.5+ MB\n"
     ]
    }
   ],
   "source": [
    "# Getting some information about the dataset\n",
    "df.info()"
   ]
  },
  {
   "cell_type": "code",
   "execution_count": 14,
   "id": "09db12c8",
   "metadata": {},
   "outputs": [
    {
     "data": {
      "text/html": [
       "<div>\n",
       "<style scoped>\n",
       "    .dataframe tbody tr th:only-of-type {\n",
       "        vertical-align: middle;\n",
       "    }\n",
       "\n",
       "    .dataframe tbody tr th {\n",
       "        vertical-align: top;\n",
       "    }\n",
       "\n",
       "    .dataframe thead th {\n",
       "        text-align: right;\n",
       "    }\n",
       "</style>\n",
       "<table border=\"1\" class=\"dataframe\">\n",
       "  <thead>\n",
       "    <tr style=\"text-align: right;\">\n",
       "      <th></th>\n",
       "      <th>symbol</th>\n",
       "      <th>open</th>\n",
       "      <th>high</th>\n",
       "      <th>low</th>\n",
       "      <th>close</th>\n",
       "      <th>change</th>\n",
       "      <th>perc_Change</th>\n",
       "      <th>volume_traded</th>\n",
       "      <th>value_traded</th>\n",
       "      <th>no_trades</th>\n",
       "    </tr>\n",
       "  </thead>\n",
       "  <tbody>\n",
       "    <tr>\n",
       "      <th>count</th>\n",
       "      <td>414797.000000</td>\n",
       "      <td>410147.000000</td>\n",
       "      <td>410147.000000</td>\n",
       "      <td>410147.000000</td>\n",
       "      <td>414797.000000</td>\n",
       "      <td>414797.000000</td>\n",
       "      <td>414797.000000</td>\n",
       "      <td>4.147970e+05</td>\n",
       "      <td>4.147970e+05</td>\n",
       "      <td>409713.000000</td>\n",
       "    </tr>\n",
       "    <tr>\n",
       "      <th>mean</th>\n",
       "      <td>4148.102033</td>\n",
       "      <td>36.267835</td>\n",
       "      <td>36.759469</td>\n",
       "      <td>35.809697</td>\n",
       "      <td>36.037634</td>\n",
       "      <td>-0.000849</td>\n",
       "      <td>0.014939</td>\n",
       "      <td>1.291242e+06</td>\n",
       "      <td>3.039228e+07</td>\n",
       "      <td>658.631742</td>\n",
       "    </tr>\n",
       "    <tr>\n",
       "      <th>std</th>\n",
       "      <td>2396.720793</td>\n",
       "      <td>39.138091</td>\n",
       "      <td>39.771636</td>\n",
       "      <td>38.531690</td>\n",
       "      <td>38.949740</td>\n",
       "      <td>1.407559</td>\n",
       "      <td>2.259782</td>\n",
       "      <td>4.898530e+06</td>\n",
       "      <td>8.908657e+07</td>\n",
       "      <td>1896.004748</td>\n",
       "    </tr>\n",
       "    <tr>\n",
       "      <th>min</th>\n",
       "      <td>1010.000000</td>\n",
       "      <td>4.180000</td>\n",
       "      <td>4.280000</td>\n",
       "      <td>4.180000</td>\n",
       "      <td>0.000000</td>\n",
       "      <td>-80.000000</td>\n",
       "      <td>-100.000000</td>\n",
       "      <td>0.000000e+00</td>\n",
       "      <td>0.000000e+00</td>\n",
       "      <td>0.000000</td>\n",
       "    </tr>\n",
       "    <tr>\n",
       "      <th>25%</th>\n",
       "      <td>2170.000000</td>\n",
       "      <td>16.100000</td>\n",
       "      <td>16.300000</td>\n",
       "      <td>15.920000</td>\n",
       "      <td>16.000000</td>\n",
       "      <td>-0.210000</td>\n",
       "      <td>-0.830000</td>\n",
       "      <td>1.311800e+05</td>\n",
       "      <td>3.646902e+06</td>\n",
       "      <td>165.000000</td>\n",
       "    </tr>\n",
       "    <tr>\n",
       "      <th>50%</th>\n",
       "      <td>4010.000000</td>\n",
       "      <td>25.400000</td>\n",
       "      <td>25.800000</td>\n",
       "      <td>25.050000</td>\n",
       "      <td>25.200000</td>\n",
       "      <td>0.000000</td>\n",
       "      <td>0.000000</td>\n",
       "      <td>3.514580e+05</td>\n",
       "      <td>9.862429e+06</td>\n",
       "      <td>342.000000</td>\n",
       "    </tr>\n",
       "    <tr>\n",
       "      <th>75%</th>\n",
       "      <td>6020.000000</td>\n",
       "      <td>43.500000</td>\n",
       "      <td>44.070000</td>\n",
       "      <td>42.920000</td>\n",
       "      <td>43.200000</td>\n",
       "      <td>0.200000</td>\n",
       "      <td>0.800000</td>\n",
       "      <td>9.367790e+05</td>\n",
       "      <td>2.527472e+07</td>\n",
       "      <td>712.000000</td>\n",
       "    </tr>\n",
       "    <tr>\n",
       "      <th>max</th>\n",
       "      <td>8312.000000</td>\n",
       "      <td>863.000000</td>\n",
       "      <td>883.000000</td>\n",
       "      <td>756.500000</td>\n",
       "      <td>803.000000</td>\n",
       "      <td>95.000000</td>\n",
       "      <td>351.850000</td>\n",
       "      <td>4.179278e+08</td>\n",
       "      <td>1.586582e+10</td>\n",
       "      <td>540248.000000</td>\n",
       "    </tr>\n",
       "  </tbody>\n",
       "</table>\n",
       "</div>"
      ],
      "text/plain": [
       "              symbol           open           high            low  \\\n",
       "count  414797.000000  410147.000000  410147.000000  410147.000000   \n",
       "mean     4148.102033      36.267835      36.759469      35.809697   \n",
       "std      2396.720793      39.138091      39.771636      38.531690   \n",
       "min      1010.000000       4.180000       4.280000       4.180000   \n",
       "25%      2170.000000      16.100000      16.300000      15.920000   \n",
       "50%      4010.000000      25.400000      25.800000      25.050000   \n",
       "75%      6020.000000      43.500000      44.070000      42.920000   \n",
       "max      8312.000000     863.000000     883.000000     756.500000   \n",
       "\n",
       "               close         change    perc_Change  volume_traded   \\\n",
       "count  414797.000000  414797.000000  414797.000000    4.147970e+05   \n",
       "mean       36.037634      -0.000849       0.014939    1.291242e+06   \n",
       "std        38.949740       1.407559       2.259782    4.898530e+06   \n",
       "min         0.000000     -80.000000    -100.000000    0.000000e+00   \n",
       "25%        16.000000      -0.210000      -0.830000    1.311800e+05   \n",
       "50%        25.200000       0.000000       0.000000    3.514580e+05   \n",
       "75%        43.200000       0.200000       0.800000    9.367790e+05   \n",
       "max       803.000000      95.000000     351.850000    4.179278e+08   \n",
       "\n",
       "       value_traded     no_trades   \n",
       "count  4.147970e+05  409713.000000  \n",
       "mean   3.039228e+07     658.631742  \n",
       "std    8.908657e+07    1896.004748  \n",
       "min    0.000000e+00       0.000000  \n",
       "25%    3.646902e+06     165.000000  \n",
       "50%    9.862429e+06     342.000000  \n",
       "75%    2.527472e+07     712.000000  \n",
       "max    1.586582e+10  540248.000000  "
      ]
     },
     "execution_count": 14,
     "metadata": {},
     "output_type": "execute_result"
    }
   ],
   "source": [
    "# Get descriptive statistics summary of data (numeric data)\n",
    "df.describe()"
   ]
  },
  {
   "cell_type": "code",
   "execution_count": 15,
   "id": "43b22ade",
   "metadata": {},
   "outputs": [
    {
     "data": {
      "text/plain": [
       "symbol               0\n",
       "name                 0\n",
       "trading_name         0\n",
       "sectoer              0\n",
       "date                 0\n",
       "open              4650\n",
       "high              4650\n",
       "low               4650\n",
       "close                0\n",
       "change               0\n",
       "perc_Change          0\n",
       "volume_traded        0\n",
       "value_traded         0\n",
       "no_trades         5084\n",
       "dtype: int64"
      ]
     },
     "execution_count": 15,
     "metadata": {},
     "output_type": "execute_result"
    }
   ],
   "source": [
    "# Check for null value\n",
    "df.isnull().sum()"
   ]
  },
  {
   "cell_type": "code",
   "execution_count": 16,
   "id": "64528e6d",
   "metadata": {},
   "outputs": [],
   "source": [
    "# Remove null values since they are small sample comparing to whole data.\n",
    "df = df.dropna()"
   ]
  },
  {
   "cell_type": "code",
   "execution_count": 17,
   "id": "6525e4ae",
   "metadata": {},
   "outputs": [],
   "source": [
    "# Remove the \"symbol\" and \"name\" column as not nessessary\n",
    "df = df.drop(['symbol','name'],axis=1)"
   ]
  },
  {
   "cell_type": "code",
   "execution_count": 18,
   "id": "cb84f8cc",
   "metadata": {},
   "outputs": [
    {
     "data": {
      "text/plain": [
       "trading_name      0\n",
       "sectoer           0\n",
       "date              0\n",
       "open              0\n",
       "high              0\n",
       "low               0\n",
       "close             0\n",
       "change            0\n",
       "perc_Change       0\n",
       "volume_traded     0\n",
       "value_traded      0\n",
       "no_trades         0\n",
       "dtype: int64"
      ]
     },
     "execution_count": 18,
     "metadata": {},
     "output_type": "execute_result"
    }
   ],
   "source": [
    "# Check for null values again!\n",
    "df.isnull().sum()"
   ]
  },
  {
   "cell_type": "code",
   "execution_count": 19,
   "id": "df4577e6",
   "metadata": {},
   "outputs": [
    {
     "data": {
      "text/plain": [
       "False"
      ]
     },
     "execution_count": 19,
     "metadata": {},
     "output_type": "execute_result"
    }
   ],
   "source": [
    "# Check for duplicated data\n",
    "df.duplicated().any()"
   ]
  },
  {
   "cell_type": "code",
   "execution_count": 20,
   "id": "9a520834",
   "metadata": {},
   "outputs": [
    {
     "data": {
      "text/plain": [
       "(405063, 12)"
      ]
     },
     "execution_count": 20,
     "metadata": {},
     "output_type": "execute_result"
    }
   ],
   "source": [
    "# Check the shape after handling null values\n",
    "df.shape"
   ]
  },
  {
   "cell_type": "code",
   "execution_count": 21,
   "id": "09e68c1d",
   "metadata": {},
   "outputs": [
    {
     "data": {
      "text/html": [
       "<div>\n",
       "<style scoped>\n",
       "    .dataframe tbody tr th:only-of-type {\n",
       "        vertical-align: middle;\n",
       "    }\n",
       "\n",
       "    .dataframe tbody tr th {\n",
       "        vertical-align: top;\n",
       "    }\n",
       "\n",
       "    .dataframe thead th {\n",
       "        text-align: right;\n",
       "    }\n",
       "</style>\n",
       "<table border=\"1\" class=\"dataframe\">\n",
       "  <thead>\n",
       "    <tr style=\"text-align: right;\">\n",
       "      <th></th>\n",
       "      <th>trading_name</th>\n",
       "      <th>sectoer</th>\n",
       "      <th>date</th>\n",
       "      <th>open</th>\n",
       "      <th>high</th>\n",
       "      <th>low</th>\n",
       "      <th>close</th>\n",
       "      <th>change</th>\n",
       "      <th>perc_Change</th>\n",
       "      <th>volume_traded</th>\n",
       "      <th>value_traded</th>\n",
       "      <th>no_trades</th>\n",
       "    </tr>\n",
       "  </thead>\n",
       "  <tbody>\n",
       "    <tr>\n",
       "      <th>0</th>\n",
       "      <td>SARCO</td>\n",
       "      <td>Energy</td>\n",
       "      <td>2020-03-05</td>\n",
       "      <td>35.55</td>\n",
       "      <td>35.85</td>\n",
       "      <td>34.9</td>\n",
       "      <td>34.90</td>\n",
       "      <td>-0.40</td>\n",
       "      <td>-1.13</td>\n",
       "      <td>436609.0</td>\n",
       "      <td>15399073.50</td>\n",
       "      <td>804.0</td>\n",
       "    </tr>\n",
       "    <tr>\n",
       "      <th>1</th>\n",
       "      <td>SARCO</td>\n",
       "      <td>Energy</td>\n",
       "      <td>2020-03-04</td>\n",
       "      <td>34.70</td>\n",
       "      <td>35.65</td>\n",
       "      <td>34.5</td>\n",
       "      <td>35.30</td>\n",
       "      <td>0.25</td>\n",
       "      <td>0.71</td>\n",
       "      <td>737624.0</td>\n",
       "      <td>25981391.35</td>\n",
       "      <td>1268.0</td>\n",
       "    </tr>\n",
       "    <tr>\n",
       "      <th>2</th>\n",
       "      <td>SARCO</td>\n",
       "      <td>Energy</td>\n",
       "      <td>2020-03-03</td>\n",
       "      <td>34.70</td>\n",
       "      <td>35.15</td>\n",
       "      <td>34.7</td>\n",
       "      <td>35.05</td>\n",
       "      <td>1.05</td>\n",
       "      <td>3.09</td>\n",
       "      <td>489831.0</td>\n",
       "      <td>17116413.40</td>\n",
       "      <td>854.0</td>\n",
       "    </tr>\n",
       "    <tr>\n",
       "      <th>3</th>\n",
       "      <td>SARCO</td>\n",
       "      <td>Energy</td>\n",
       "      <td>2020-03-02</td>\n",
       "      <td>35.20</td>\n",
       "      <td>35.65</td>\n",
       "      <td>34.0</td>\n",
       "      <td>34.00</td>\n",
       "      <td>-0.55</td>\n",
       "      <td>-1.59</td>\n",
       "      <td>736157.0</td>\n",
       "      <td>25858700.60</td>\n",
       "      <td>1242.0</td>\n",
       "    </tr>\n",
       "  </tbody>\n",
       "</table>\n",
       "</div>"
      ],
      "text/plain": [
       "  trading_name  sectoer        date   open   high   low  close  change  \\\n",
       "0         SARCO  Energy  2020-03-05  35.55  35.85  34.9  34.90   -0.40   \n",
       "1         SARCO  Energy  2020-03-04  34.70  35.65  34.5  35.30    0.25   \n",
       "2         SARCO  Energy  2020-03-03  34.70  35.15  34.7  35.05    1.05   \n",
       "3         SARCO  Energy  2020-03-02  35.20  35.65  34.0  34.00   -0.55   \n",
       "\n",
       "   perc_Change  volume_traded   value_traded  no_trades   \n",
       "0        -1.13        436609.0   15399073.50       804.0  \n",
       "1         0.71        737624.0   25981391.35      1268.0  \n",
       "2         3.09        489831.0   17116413.40       854.0  \n",
       "3        -1.59        736157.0   25858700.60      1242.0  "
      ]
     },
     "execution_count": 21,
     "metadata": {},
     "output_type": "execute_result"
    }
   ],
   "source": [
    "# Display the first four rows of data\n",
    "df.head(4)"
   ]
  },
  {
   "cell_type": "code",
   "execution_count": 22,
   "id": "ec7fb0db",
   "metadata": {},
   "outputs": [
    {
     "data": {
      "text/plain": [
       "Index(['trading_name ', 'sectoer', 'date', 'open', 'high', 'low', 'close',\n",
       "       'change', 'perc_Change', 'volume_traded ', 'value_traded',\n",
       "       'no_trades '],\n",
       "      dtype='object')"
      ]
     },
     "execution_count": 22,
     "metadata": {},
     "output_type": "execute_result"
    }
   ],
   "source": [
    "# Display columns names\n",
    "df.columns"
   ]
  },
  {
   "cell_type": "code",
   "execution_count": 23,
   "id": "97d82d73",
   "metadata": {},
   "outputs": [
    {
     "data": {
      "text/html": [
       "<div>\n",
       "<style scoped>\n",
       "    .dataframe tbody tr th:only-of-type {\n",
       "        vertical-align: middle;\n",
       "    }\n",
       "\n",
       "    .dataframe tbody tr th {\n",
       "        vertical-align: top;\n",
       "    }\n",
       "\n",
       "    .dataframe thead th {\n",
       "        text-align: right;\n",
       "    }\n",
       "</style>\n",
       "<table border=\"1\" class=\"dataframe\">\n",
       "  <thead>\n",
       "    <tr style=\"text-align: right;\">\n",
       "      <th></th>\n",
       "      <th>Company_Name</th>\n",
       "      <th>Sector</th>\n",
       "      <th>Date</th>\n",
       "      <th>Open</th>\n",
       "      <th>High</th>\n",
       "      <th>Low</th>\n",
       "      <th>Close</th>\n",
       "      <th>Price_Change</th>\n",
       "      <th>%_Change</th>\n",
       "      <th>Volume_Traded</th>\n",
       "      <th>Value_Traded</th>\n",
       "      <th>No_of_Trades</th>\n",
       "    </tr>\n",
       "  </thead>\n",
       "  <tbody>\n",
       "    <tr>\n",
       "      <th>0</th>\n",
       "      <td>SARCO</td>\n",
       "      <td>Energy</td>\n",
       "      <td>2020-03-05</td>\n",
       "      <td>35.55</td>\n",
       "      <td>35.85</td>\n",
       "      <td>34.90</td>\n",
       "      <td>34.90</td>\n",
       "      <td>-0.40</td>\n",
       "      <td>-1.13</td>\n",
       "      <td>436609.0</td>\n",
       "      <td>15399073.50</td>\n",
       "      <td>804.0</td>\n",
       "    </tr>\n",
       "    <tr>\n",
       "      <th>1</th>\n",
       "      <td>SARCO</td>\n",
       "      <td>Energy</td>\n",
       "      <td>2020-03-04</td>\n",
       "      <td>34.70</td>\n",
       "      <td>35.65</td>\n",
       "      <td>34.50</td>\n",
       "      <td>35.30</td>\n",
       "      <td>0.25</td>\n",
       "      <td>0.71</td>\n",
       "      <td>737624.0</td>\n",
       "      <td>25981391.35</td>\n",
       "      <td>1268.0</td>\n",
       "    </tr>\n",
       "    <tr>\n",
       "      <th>2</th>\n",
       "      <td>SARCO</td>\n",
       "      <td>Energy</td>\n",
       "      <td>2020-03-03</td>\n",
       "      <td>34.70</td>\n",
       "      <td>35.15</td>\n",
       "      <td>34.70</td>\n",
       "      <td>35.05</td>\n",
       "      <td>1.05</td>\n",
       "      <td>3.09</td>\n",
       "      <td>489831.0</td>\n",
       "      <td>17116413.40</td>\n",
       "      <td>854.0</td>\n",
       "    </tr>\n",
       "    <tr>\n",
       "      <th>3</th>\n",
       "      <td>SARCO</td>\n",
       "      <td>Energy</td>\n",
       "      <td>2020-03-02</td>\n",
       "      <td>35.20</td>\n",
       "      <td>35.65</td>\n",
       "      <td>34.00</td>\n",
       "      <td>34.00</td>\n",
       "      <td>-0.55</td>\n",
       "      <td>-1.59</td>\n",
       "      <td>736157.0</td>\n",
       "      <td>25858700.60</td>\n",
       "      <td>1242.0</td>\n",
       "    </tr>\n",
       "    <tr>\n",
       "      <th>4</th>\n",
       "      <td>SARCO</td>\n",
       "      <td>Energy</td>\n",
       "      <td>2020-03-01</td>\n",
       "      <td>35.35</td>\n",
       "      <td>35.60</td>\n",
       "      <td>34.25</td>\n",
       "      <td>34.55</td>\n",
       "      <td>-2.05</td>\n",
       "      <td>-5.60</td>\n",
       "      <td>738685.0</td>\n",
       "      <td>25747967.55</td>\n",
       "      <td>1625.0</td>\n",
       "    </tr>\n",
       "  </tbody>\n",
       "</table>\n",
       "</div>"
      ],
      "text/plain": [
       "  Company_Name  Sector        Date   Open   High    Low  Close  Price_Change  \\\n",
       "0        SARCO  Energy  2020-03-05  35.55  35.85  34.90  34.90         -0.40   \n",
       "1        SARCO  Energy  2020-03-04  34.70  35.65  34.50  35.30          0.25   \n",
       "2        SARCO  Energy  2020-03-03  34.70  35.15  34.70  35.05          1.05   \n",
       "3        SARCO  Energy  2020-03-02  35.20  35.65  34.00  34.00         -0.55   \n",
       "4        SARCO  Energy  2020-03-01  35.35  35.60  34.25  34.55         -2.05   \n",
       "\n",
       "   %_Change  Volume_Traded  Value_Traded  No_of_Trades  \n",
       "0     -1.13       436609.0   15399073.50         804.0  \n",
       "1      0.71       737624.0   25981391.35        1268.0  \n",
       "2      3.09       489831.0   17116413.40         854.0  \n",
       "3     -1.59       736157.0   25858700.60        1242.0  \n",
       "4     -5.60       738685.0   25747967.55        1625.0  "
      ]
     },
     "execution_count": 23,
     "metadata": {},
     "output_type": "execute_result"
    }
   ],
   "source": [
    "# Lets change the names of our columns for simplicity\n",
    "\n",
    "col_names = {'trading_name ': 'Company_Name','sectoer':'Sector','perc_Change':'%_Change','change':'Price_Change','no_trades ':'No_of_Trades', 'date':'Date','open': 'Open'\n",
    "             ,'high':'High','low':'Low','close':'Close','volume_traded ':'Volume_Traded','value_traded':'Value_Traded' }\n",
    "\n",
    "df.rename(columns = col_names, inplace = True)\n",
    "\n",
    "df.head() \n"
   ]
  },
  {
   "cell_type": "code",
   "execution_count": 24,
   "id": "306fabea",
   "metadata": {},
   "outputs": [
    {
     "data": {
      "text/html": [
       "<div>\n",
       "<style scoped>\n",
       "    .dataframe tbody tr th:only-of-type {\n",
       "        vertical-align: middle;\n",
       "    }\n",
       "\n",
       "    .dataframe tbody tr th {\n",
       "        vertical-align: top;\n",
       "    }\n",
       "\n",
       "    .dataframe thead th {\n",
       "        text-align: right;\n",
       "    }\n",
       "</style>\n",
       "<table border=\"1\" class=\"dataframe\">\n",
       "  <thead>\n",
       "    <tr style=\"text-align: right;\">\n",
       "      <th></th>\n",
       "      <th>Company_Name</th>\n",
       "      <th>Sector</th>\n",
       "      <th>Date</th>\n",
       "      <th>Open</th>\n",
       "      <th>High</th>\n",
       "      <th>Low</th>\n",
       "      <th>Close</th>\n",
       "      <th>Price_Change</th>\n",
       "      <th>%_Change</th>\n",
       "      <th>Volume_Traded</th>\n",
       "      <th>Value_Traded</th>\n",
       "      <th>No_of_Trades</th>\n",
       "      <th>Year</th>\n",
       "      <th>Month</th>\n",
       "    </tr>\n",
       "  </thead>\n",
       "  <tbody>\n",
       "    <tr>\n",
       "      <th>0</th>\n",
       "      <td>SARCO</td>\n",
       "      <td>Energy</td>\n",
       "      <td>2020-03-05</td>\n",
       "      <td>35.55</td>\n",
       "      <td>35.85</td>\n",
       "      <td>34.90</td>\n",
       "      <td>34.90</td>\n",
       "      <td>-0.40</td>\n",
       "      <td>-1.13</td>\n",
       "      <td>436609.0</td>\n",
       "      <td>15399073.50</td>\n",
       "      <td>804.0</td>\n",
       "      <td>2020</td>\n",
       "      <td>3</td>\n",
       "    </tr>\n",
       "    <tr>\n",
       "      <th>1</th>\n",
       "      <td>SARCO</td>\n",
       "      <td>Energy</td>\n",
       "      <td>2020-03-04</td>\n",
       "      <td>34.70</td>\n",
       "      <td>35.65</td>\n",
       "      <td>34.50</td>\n",
       "      <td>35.30</td>\n",
       "      <td>0.25</td>\n",
       "      <td>0.71</td>\n",
       "      <td>737624.0</td>\n",
       "      <td>25981391.35</td>\n",
       "      <td>1268.0</td>\n",
       "      <td>2020</td>\n",
       "      <td>3</td>\n",
       "    </tr>\n",
       "    <tr>\n",
       "      <th>2</th>\n",
       "      <td>SARCO</td>\n",
       "      <td>Energy</td>\n",
       "      <td>2020-03-03</td>\n",
       "      <td>34.70</td>\n",
       "      <td>35.15</td>\n",
       "      <td>34.70</td>\n",
       "      <td>35.05</td>\n",
       "      <td>1.05</td>\n",
       "      <td>3.09</td>\n",
       "      <td>489831.0</td>\n",
       "      <td>17116413.40</td>\n",
       "      <td>854.0</td>\n",
       "      <td>2020</td>\n",
       "      <td>3</td>\n",
       "    </tr>\n",
       "    <tr>\n",
       "      <th>3</th>\n",
       "      <td>SARCO</td>\n",
       "      <td>Energy</td>\n",
       "      <td>2020-03-02</td>\n",
       "      <td>35.20</td>\n",
       "      <td>35.65</td>\n",
       "      <td>34.00</td>\n",
       "      <td>34.00</td>\n",
       "      <td>-0.55</td>\n",
       "      <td>-1.59</td>\n",
       "      <td>736157.0</td>\n",
       "      <td>25858700.60</td>\n",
       "      <td>1242.0</td>\n",
       "      <td>2020</td>\n",
       "      <td>3</td>\n",
       "    </tr>\n",
       "    <tr>\n",
       "      <th>4</th>\n",
       "      <td>SARCO</td>\n",
       "      <td>Energy</td>\n",
       "      <td>2020-03-01</td>\n",
       "      <td>35.35</td>\n",
       "      <td>35.60</td>\n",
       "      <td>34.25</td>\n",
       "      <td>34.55</td>\n",
       "      <td>-2.05</td>\n",
       "      <td>-5.60</td>\n",
       "      <td>738685.0</td>\n",
       "      <td>25747967.55</td>\n",
       "      <td>1625.0</td>\n",
       "      <td>2020</td>\n",
       "      <td>3</td>\n",
       "    </tr>\n",
       "  </tbody>\n",
       "</table>\n",
       "</div>"
      ],
      "text/plain": [
       "  Company_Name  Sector        Date   Open   High    Low  Close  Price_Change  \\\n",
       "0        SARCO  Energy  2020-03-05  35.55  35.85  34.90  34.90         -0.40   \n",
       "1        SARCO  Energy  2020-03-04  34.70  35.65  34.50  35.30          0.25   \n",
       "2        SARCO  Energy  2020-03-03  34.70  35.15  34.70  35.05          1.05   \n",
       "3        SARCO  Energy  2020-03-02  35.20  35.65  34.00  34.00         -0.55   \n",
       "4        SARCO  Energy  2020-03-01  35.35  35.60  34.25  34.55         -2.05   \n",
       "\n",
       "   %_Change  Volume_Traded  Value_Traded  No_of_Trades  Year  Month  \n",
       "0     -1.13       436609.0   15399073.50         804.0  2020      3  \n",
       "1      0.71       737624.0   25981391.35        1268.0  2020      3  \n",
       "2      3.09       489831.0   17116413.40         854.0  2020      3  \n",
       "3     -1.59       736157.0   25858700.60        1242.0  2020      3  \n",
       "4     -5.60       738685.0   25747967.55        1625.0  2020      3  "
      ]
     },
     "execution_count": 24,
     "metadata": {},
     "output_type": "execute_result"
    }
   ],
   "source": [
    "# Adding the 'Year' and 'Month' feature by splitting the Date column \n",
    "df[\"Year\"] = pd.DatetimeIndex(df['Date']).year\n",
    "df['Month'] = pd.DatetimeIndex(df['Date']).month\n",
    "df.head()"
   ]
  },
  {
   "cell_type": "code",
   "execution_count": 25,
   "id": "8dbb908d",
   "metadata": {},
   "outputs": [],
   "source": [
    "# Set duplicated labels of index on data to false.\n",
    "df.flags.allows_duplicate_labels = False"
   ]
  },
  {
   "cell_type": "code",
   "execution_count": 26,
   "id": "a70c91af",
   "metadata": {},
   "outputs": [
    {
     "name": "stdout",
     "output_type": "stream",
     "text": [
      "[False False False ... False False False]\n"
     ]
    }
   ],
   "source": [
    "# Check dublication of indeces on data\n",
    "print(df.index.duplicated())"
   ]
  },
  {
   "cell_type": "code",
   "execution_count": 27,
   "id": "d3f5b545",
   "metadata": {},
   "outputs": [
    {
     "name": "stdout",
     "output_type": "stream",
     "text": [
      "True\n"
     ]
    }
   ],
   "source": [
    "# Check indeces of data is unique\n",
    "print(df.index.is_unique)"
   ]
  },
  {
   "cell_type": "markdown",
   "id": "e3e97f55",
   "metadata": {},
   "source": [
    "## Stage2. Exploratory Data Analysis (EDA)\n",
    "Understanding the dataset through summarizing their features by visualize data. "
   ]
  },
  {
   "cell_type": "code",
   "execution_count": 28,
   "id": "3ff29def",
   "metadata": {},
   "outputs": [
    {
     "data": {
      "text/html": [
       "<style type=\"text/css\">\n",
       "#T_8106d_row0_col0, #T_8106d_row0_col1, #T_8106d_row0_col2, #T_8106d_row0_col3, #T_8106d_row1_col0, #T_8106d_row1_col1, #T_8106d_row1_col2, #T_8106d_row1_col3, #T_8106d_row2_col0, #T_8106d_row2_col1, #T_8106d_row2_col2, #T_8106d_row2_col3, #T_8106d_row3_col0, #T_8106d_row3_col1, #T_8106d_row3_col2, #T_8106d_row3_col3, #T_8106d_row4_col4, #T_8106d_row5_col5, #T_8106d_row6_col6, #T_8106d_row7_col7, #T_8106d_row8_col8, #T_8106d_row9_col9, #T_8106d_row10_col10 {\n",
       "  background-color: #b40426;\n",
       "  color: #f1f1f1;\n",
       "}\n",
       "#T_8106d_row0_col4, #T_8106d_row0_col6, #T_8106d_row0_col9, #T_8106d_row1_col6, #T_8106d_row1_col9, #T_8106d_row2_col6, #T_8106d_row2_col9, #T_8106d_row3_col6, #T_8106d_row3_col9, #T_8106d_row9_col0, #T_8106d_row9_col1, #T_8106d_row9_col2, #T_8106d_row9_col3, #T_8106d_row9_col5, #T_8106d_row9_col7, #T_8106d_row9_col8, #T_8106d_row9_col10 {\n",
       "  background-color: #3b4cc0;\n",
       "  color: #f1f1f1;\n",
       "}\n",
       "#T_8106d_row0_col5, #T_8106d_row9_col4, #T_8106d_row10_col5 {\n",
       "  background-color: #3c4ec2;\n",
       "  color: #f1f1f1;\n",
       "}\n",
       "#T_8106d_row0_col7, #T_8106d_row2_col7 {\n",
       "  background-color: #7295f4;\n",
       "  color: #f1f1f1;\n",
       "}\n",
       "#T_8106d_row0_col8, #T_8106d_row2_col8, #T_8106d_row4_col2, #T_8106d_row5_col0 {\n",
       "  background-color: #5572df;\n",
       "  color: #f1f1f1;\n",
       "}\n",
       "#T_8106d_row0_col10, #T_8106d_row1_col10, #T_8106d_row3_col10 {\n",
       "  background-color: #445acc;\n",
       "  color: #f1f1f1;\n",
       "}\n",
       "#T_8106d_row1_col4, #T_8106d_row1_col5, #T_8106d_row2_col4, #T_8106d_row2_col5, #T_8106d_row6_col0, #T_8106d_row6_col2, #T_8106d_row6_col3, #T_8106d_row6_col10, #T_8106d_row7_col9, #T_8106d_row7_col10, #T_8106d_row10_col8 {\n",
       "  background-color: #3e51c5;\n",
       "  color: #f1f1f1;\n",
       "}\n",
       "#T_8106d_row1_col7, #T_8106d_row3_col7 {\n",
       "  background-color: #7396f5;\n",
       "  color: #f1f1f1;\n",
       "}\n",
       "#T_8106d_row1_col8, #T_8106d_row5_col1, #T_8106d_row6_col5 {\n",
       "  background-color: #5875e1;\n",
       "  color: #f1f1f1;\n",
       "}\n",
       "#T_8106d_row2_col10 {\n",
       "  background-color: #4358cb;\n",
       "  color: #f1f1f1;\n",
       "}\n",
       "#T_8106d_row3_col4, #T_8106d_row9_col6 {\n",
       "  background-color: #4257c9;\n",
       "  color: #f1f1f1;\n",
       "}\n",
       "#T_8106d_row3_col5 {\n",
       "  background-color: #4055c8;\n",
       "  color: #f1f1f1;\n",
       "}\n",
       "#T_8106d_row3_col8, #T_8106d_row4_col1, #T_8106d_row5_col2 {\n",
       "  background-color: #5673e0;\n",
       "  color: #f1f1f1;\n",
       "}\n",
       "#T_8106d_row4_col0 {\n",
       "  background-color: #516ddb;\n",
       "  color: #f1f1f1;\n",
       "}\n",
       "#T_8106d_row4_col3, #T_8106d_row5_col3 {\n",
       "  background-color: #5977e3;\n",
       "  color: #f1f1f1;\n",
       "}\n",
       "#T_8106d_row4_col5 {\n",
       "  background-color: #f3c8b2;\n",
       "  color: #000000;\n",
       "}\n",
       "#T_8106d_row4_col6 {\n",
       "  background-color: #5b7ae5;\n",
       "  color: #f1f1f1;\n",
       "}\n",
       "#T_8106d_row4_col7 {\n",
       "  background-color: #688aef;\n",
       "  color: #f1f1f1;\n",
       "}\n",
       "#T_8106d_row4_col8 {\n",
       "  background-color: #6e90f2;\n",
       "  color: #f1f1f1;\n",
       "}\n",
       "#T_8106d_row4_col9, #T_8106d_row7_col4 {\n",
       "  background-color: #5470de;\n",
       "  color: #f1f1f1;\n",
       "}\n",
       "#T_8106d_row4_col10 {\n",
       "  background-color: #455cce;\n",
       "  color: #f1f1f1;\n",
       "}\n",
       "#T_8106d_row5_col4 {\n",
       "  background-color: #f3c7b1;\n",
       "  color: #000000;\n",
       "}\n",
       "#T_8106d_row5_col6 {\n",
       "  background-color: #6c8ff1;\n",
       "  color: #f1f1f1;\n",
       "}\n",
       "#T_8106d_row5_col7 {\n",
       "  background-color: #799cf8;\n",
       "  color: #f1f1f1;\n",
       "}\n",
       "#T_8106d_row5_col8 {\n",
       "  background-color: #8db0fe;\n",
       "  color: #000000;\n",
       "}\n",
       "#T_8106d_row5_col9, #T_8106d_row10_col0, #T_8106d_row10_col1, #T_8106d_row10_col2, #T_8106d_row10_col3 {\n",
       "  background-color: #536edd;\n",
       "  color: #f1f1f1;\n",
       "}\n",
       "#T_8106d_row5_col10, #T_8106d_row6_col9 {\n",
       "  background-color: #465ecf;\n",
       "  color: #f1f1f1;\n",
       "}\n",
       "#T_8106d_row6_col1, #T_8106d_row8_col10 {\n",
       "  background-color: #3f53c6;\n",
       "  color: #f1f1f1;\n",
       "}\n",
       "#T_8106d_row6_col4 {\n",
       "  background-color: #485fd1;\n",
       "  color: #f1f1f1;\n",
       "}\n",
       "#T_8106d_row6_col7, #T_8106d_row7_col6 {\n",
       "  background-color: #f5a081;\n",
       "  color: #000000;\n",
       "}\n",
       "#T_8106d_row6_col8 {\n",
       "  background-color: #dadce0;\n",
       "  color: #000000;\n",
       "}\n",
       "#T_8106d_row7_col0, #T_8106d_row7_col3 {\n",
       "  background-color: #7699f6;\n",
       "  color: #f1f1f1;\n",
       "}\n",
       "#T_8106d_row7_col1 {\n",
       "  background-color: #779af7;\n",
       "  color: #f1f1f1;\n",
       "}\n",
       "#T_8106d_row7_col2 {\n",
       "  background-color: #7597f6;\n",
       "  color: #f1f1f1;\n",
       "}\n",
       "#T_8106d_row7_col5, #T_8106d_row8_col2 {\n",
       "  background-color: #6485ec;\n",
       "  color: #f1f1f1;\n",
       "}\n",
       "#T_8106d_row7_col8 {\n",
       "  background-color: #f6bda2;\n",
       "  color: #000000;\n",
       "}\n",
       "#T_8106d_row8_col0, #T_8106d_row8_col3, #T_8106d_row8_col4 {\n",
       "  background-color: #6687ed;\n",
       "  color: #f1f1f1;\n",
       "}\n",
       "#T_8106d_row8_col1 {\n",
       "  background-color: #6788ee;\n",
       "  color: #f1f1f1;\n",
       "}\n",
       "#T_8106d_row8_col5 {\n",
       "  background-color: #85a8fc;\n",
       "  color: #f1f1f1;\n",
       "}\n",
       "#T_8106d_row8_col6 {\n",
       "  background-color: #e0dbd8;\n",
       "  color: #000000;\n",
       "}\n",
       "#T_8106d_row8_col7 {\n",
       "  background-color: #f7b99e;\n",
       "  color: #000000;\n",
       "}\n",
       "#T_8106d_row8_col9 {\n",
       "  background-color: #4a63d3;\n",
       "  color: #f1f1f1;\n",
       "}\n",
       "#T_8106d_row10_col4 {\n",
       "  background-color: #3d50c3;\n",
       "  color: #f1f1f1;\n",
       "}\n",
       "#T_8106d_row10_col6, #T_8106d_row10_col7, #T_8106d_row10_col9 {\n",
       "  background-color: #4961d2;\n",
       "  color: #f1f1f1;\n",
       "}\n",
       "</style>\n",
       "<table id=\"T_8106d\">\n",
       "  <thead>\n",
       "    <tr>\n",
       "      <th class=\"blank level0\" >&nbsp;</th>\n",
       "      <th id=\"T_8106d_level0_col0\" class=\"col_heading level0 col0\" >Open</th>\n",
       "      <th id=\"T_8106d_level0_col1\" class=\"col_heading level0 col1\" >High</th>\n",
       "      <th id=\"T_8106d_level0_col2\" class=\"col_heading level0 col2\" >Low</th>\n",
       "      <th id=\"T_8106d_level0_col3\" class=\"col_heading level0 col3\" >Close</th>\n",
       "      <th id=\"T_8106d_level0_col4\" class=\"col_heading level0 col4\" >Price_Change</th>\n",
       "      <th id=\"T_8106d_level0_col5\" class=\"col_heading level0 col5\" >%_Change</th>\n",
       "      <th id=\"T_8106d_level0_col6\" class=\"col_heading level0 col6\" >Volume_Traded</th>\n",
       "      <th id=\"T_8106d_level0_col7\" class=\"col_heading level0 col7\" >Value_Traded</th>\n",
       "      <th id=\"T_8106d_level0_col8\" class=\"col_heading level0 col8\" >No_of_Trades</th>\n",
       "      <th id=\"T_8106d_level0_col9\" class=\"col_heading level0 col9\" >Year</th>\n",
       "      <th id=\"T_8106d_level0_col10\" class=\"col_heading level0 col10\" >Month</th>\n",
       "    </tr>\n",
       "  </thead>\n",
       "  <tbody>\n",
       "    <tr>\n",
       "      <th id=\"T_8106d_level0_row0\" class=\"row_heading level0 row0\" >Open</th>\n",
       "      <td id=\"T_8106d_row0_col0\" class=\"data row0 col0\" >1.000000</td>\n",
       "      <td id=\"T_8106d_row0_col1\" class=\"data row0 col1\" >0.999678</td>\n",
       "      <td id=\"T_8106d_row0_col2\" class=\"data row0 col2\" >0.999684</td>\n",
       "      <td id=\"T_8106d_row0_col3\" class=\"data row0 col3\" >0.999486</td>\n",
       "      <td id=\"T_8106d_row0_col4\" class=\"data row0 col4\" >-0.013348</td>\n",
       "      <td id=\"T_8106d_row0_col5\" class=\"data row0 col5\" >-0.004166</td>\n",
       "      <td id=\"T_8106d_row0_col6\" class=\"data row0 col6\" >-0.082202</td>\n",
       "      <td id=\"T_8106d_row0_col7\" class=\"data row0 col7\" >0.105061</td>\n",
       "      <td id=\"T_8106d_row0_col8\" class=\"data row0 col8\" >0.052996</td>\n",
       "      <td id=\"T_8106d_row0_col9\" class=\"data row0 col9\" >-0.098595</td>\n",
       "      <td id=\"T_8106d_row0_col10\" class=\"data row0 col10\" >-0.011419</td>\n",
       "    </tr>\n",
       "    <tr>\n",
       "      <th id=\"T_8106d_level0_row1\" class=\"row_heading level0 row1\" >High</th>\n",
       "      <td id=\"T_8106d_row1_col0\" class=\"data row1 col0\" >0.999678</td>\n",
       "      <td id=\"T_8106d_row1_col1\" class=\"data row1 col1\" >1.000000</td>\n",
       "      <td id=\"T_8106d_row1_col2\" class=\"data row1 col2\" >0.999429</td>\n",
       "      <td id=\"T_8106d_row1_col3\" class=\"data row1 col3\" >0.999679</td>\n",
       "      <td id=\"T_8106d_row1_col4\" class=\"data row1 col4\" >0.000259</td>\n",
       "      <td id=\"T_8106d_row1_col5\" class=\"data row1 col5\" >0.005965</td>\n",
       "      <td id=\"T_8106d_row1_col6\" class=\"data row1 col6\" >-0.080085</td>\n",
       "      <td id=\"T_8106d_row1_col7\" class=\"data row1 col7\" >0.109406</td>\n",
       "      <td id=\"T_8106d_row1_col8\" class=\"data row1 col8\" >0.059375</td>\n",
       "      <td id=\"T_8106d_row1_col9\" class=\"data row1 col9\" >-0.099070</td>\n",
       "      <td id=\"T_8106d_row1_col10\" class=\"data row1 col10\" >-0.011320</td>\n",
       "    </tr>\n",
       "    <tr>\n",
       "      <th id=\"T_8106d_level0_row2\" class=\"row_heading level0 row2\" >Low</th>\n",
       "      <td id=\"T_8106d_row2_col0\" class=\"data row2 col0\" >0.999684</td>\n",
       "      <td id=\"T_8106d_row2_col1\" class=\"data row2 col1\" >0.999429</td>\n",
       "      <td id=\"T_8106d_row2_col2\" class=\"data row2 col2\" >1.000000</td>\n",
       "      <td id=\"T_8106d_row2_col3\" class=\"data row2 col3\" >0.999718</td>\n",
       "      <td id=\"T_8106d_row2_col4\" class=\"data row2 col4\" >-0.000548</td>\n",
       "      <td id=\"T_8106d_row2_col5\" class=\"data row2 col5\" >0.003660</td>\n",
       "      <td id=\"T_8106d_row2_col6\" class=\"data row2 col6\" >-0.083269</td>\n",
       "      <td id=\"T_8106d_row2_col7\" class=\"data row2 col7\" >0.103194</td>\n",
       "      <td id=\"T_8106d_row2_col8\" class=\"data row2 col8\" >0.049954</td>\n",
       "      <td id=\"T_8106d_row2_col9\" class=\"data row2 col9\" >-0.098186</td>\n",
       "      <td id=\"T_8106d_row2_col10\" class=\"data row2 col10\" >-0.011886</td>\n",
       "    </tr>\n",
       "    <tr>\n",
       "      <th id=\"T_8106d_level0_row3\" class=\"row_heading level0 row3\" >Close</th>\n",
       "      <td id=\"T_8106d_row3_col0\" class=\"data row3 col0\" >0.999486</td>\n",
       "      <td id=\"T_8106d_row3_col1\" class=\"data row3 col1\" >0.999679</td>\n",
       "      <td id=\"T_8106d_row3_col2\" class=\"data row3 col2\" >0.999718</td>\n",
       "      <td id=\"T_8106d_row3_col3\" class=\"data row3 col3\" >1.000000</td>\n",
       "      <td id=\"T_8106d_row3_col4\" class=\"data row3 col4\" >0.012869</td>\n",
       "      <td id=\"T_8106d_row3_col5\" class=\"data row3 col5\" >0.012289</td>\n",
       "      <td id=\"T_8106d_row3_col6\" class=\"data row3 col6\" >-0.081706</td>\n",
       "      <td id=\"T_8106d_row3_col7\" class=\"data row3 col7\" >0.106287</td>\n",
       "      <td id=\"T_8106d_row3_col8\" class=\"data row3 col8\" >0.053759</td>\n",
       "      <td id=\"T_8106d_row3_col9\" class=\"data row3 col9\" >-0.098704</td>\n",
       "      <td id=\"T_8106d_row3_col10\" class=\"data row3 col10\" >-0.011557</td>\n",
       "    </tr>\n",
       "    <tr>\n",
       "      <th id=\"T_8106d_level0_row4\" class=\"row_heading level0 row4\" >Price_Change</th>\n",
       "      <td id=\"T_8106d_row4_col0\" class=\"data row4 col0\" >-0.013348</td>\n",
       "      <td id=\"T_8106d_row4_col1\" class=\"data row4 col1\" >0.000259</td>\n",
       "      <td id=\"T_8106d_row4_col2\" class=\"data row4 col2\" >-0.000548</td>\n",
       "      <td id=\"T_8106d_row4_col3\" class=\"data row4 col3\" >0.012869</td>\n",
       "      <td id=\"T_8106d_row4_col4\" class=\"data row4 col4\" >1.000000</td>\n",
       "      <td id=\"T_8106d_row4_col5\" class=\"data row4 col5\" >0.609520</td>\n",
       "      <td id=\"T_8106d_row4_col6\" class=\"data row4 col6\" >0.033094</td>\n",
       "      <td id=\"T_8106d_row4_col7\" class=\"data row4 col7\" >0.071824</td>\n",
       "      <td id=\"T_8106d_row4_col8\" class=\"data row4 col8\" >0.127464</td>\n",
       "      <td id=\"T_8106d_row4_col9\" class=\"data row4 col9\" >-0.005538</td>\n",
       "      <td id=\"T_8106d_row4_col10\" class=\"data row4 col10\" >-0.004601</td>\n",
       "    </tr>\n",
       "    <tr>\n",
       "      <th id=\"T_8106d_level0_row5\" class=\"row_heading level0 row5\" >%_Change</th>\n",
       "      <td id=\"T_8106d_row5_col0\" class=\"data row5 col0\" >-0.004166</td>\n",
       "      <td id=\"T_8106d_row5_col1\" class=\"data row5 col1\" >0.005965</td>\n",
       "      <td id=\"T_8106d_row5_col2\" class=\"data row5 col2\" >0.003660</td>\n",
       "      <td id=\"T_8106d_row5_col3\" class=\"data row5 col3\" >0.012289</td>\n",
       "      <td id=\"T_8106d_row5_col4\" class=\"data row5 col4\" >0.609520</td>\n",
       "      <td id=\"T_8106d_row5_col5\" class=\"data row5 col5\" >1.000000</td>\n",
       "      <td id=\"T_8106d_row5_col6\" class=\"data row5 col6\" >0.087736</td>\n",
       "      <td id=\"T_8106d_row5_col7\" class=\"data row5 col7\" >0.124954</td>\n",
       "      <td id=\"T_8106d_row5_col8\" class=\"data row5 col8\" >0.219788</td>\n",
       "      <td id=\"T_8106d_row5_col9\" class=\"data row5 col9\" >-0.009150</td>\n",
       "      <td id=\"T_8106d_row5_col10\" class=\"data row5 col10\" >-0.001600</td>\n",
       "    </tr>\n",
       "    <tr>\n",
       "      <th id=\"T_8106d_level0_row6\" class=\"row_heading level0 row6\" >Volume_Traded</th>\n",
       "      <td id=\"T_8106d_row6_col0\" class=\"data row6 col0\" >-0.082202</td>\n",
       "      <td id=\"T_8106d_row6_col1\" class=\"data row6 col1\" >-0.080085</td>\n",
       "      <td id=\"T_8106d_row6_col2\" class=\"data row6 col2\" >-0.083269</td>\n",
       "      <td id=\"T_8106d_row6_col3\" class=\"data row6 col3\" >-0.081706</td>\n",
       "      <td id=\"T_8106d_row6_col4\" class=\"data row6 col4\" >0.033094</td>\n",
       "      <td id=\"T_8106d_row6_col5\" class=\"data row6 col5\" >0.087736</td>\n",
       "      <td id=\"T_8106d_row6_col6\" class=\"data row6 col6\" >1.000000</td>\n",
       "      <td id=\"T_8106d_row6_col7\" class=\"data row6 col7\" >0.709131</td>\n",
       "      <td id=\"T_8106d_row6_col8\" class=\"data row6 col8\" >0.471501</td>\n",
       "      <td id=\"T_8106d_row6_col9\" class=\"data row6 col9\" >-0.055698</td>\n",
       "      <td id=\"T_8106d_row6_col10\" class=\"data row6 col10\" >-0.028812</td>\n",
       "    </tr>\n",
       "    <tr>\n",
       "      <th id=\"T_8106d_level0_row7\" class=\"row_heading level0 row7\" >Value_Traded</th>\n",
       "      <td id=\"T_8106d_row7_col0\" class=\"data row7 col0\" >0.105061</td>\n",
       "      <td id=\"T_8106d_row7_col1\" class=\"data row7 col1\" >0.109406</td>\n",
       "      <td id=\"T_8106d_row7_col2\" class=\"data row7 col2\" >0.103194</td>\n",
       "      <td id=\"T_8106d_row7_col3\" class=\"data row7 col3\" >0.106287</td>\n",
       "      <td id=\"T_8106d_row7_col4\" class=\"data row7 col4\" >0.071824</td>\n",
       "      <td id=\"T_8106d_row7_col5\" class=\"data row7 col5\" >0.124954</td>\n",
       "      <td id=\"T_8106d_row7_col6\" class=\"data row7 col6\" >0.709131</td>\n",
       "      <td id=\"T_8106d_row7_col7\" class=\"data row7 col7\" >1.000000</td>\n",
       "      <td id=\"T_8106d_row7_col8\" class=\"data row7 col8\" >0.635224</td>\n",
       "      <td id=\"T_8106d_row7_col9\" class=\"data row7 col9\" >-0.085128</td>\n",
       "      <td id=\"T_8106d_row7_col10\" class=\"data row7 col10\" >-0.031344</td>\n",
       "    </tr>\n",
       "    <tr>\n",
       "      <th id=\"T_8106d_level0_row8\" class=\"row_heading level0 row8\" >No_of_Trades</th>\n",
       "      <td id=\"T_8106d_row8_col0\" class=\"data row8 col0\" >0.052996</td>\n",
       "      <td id=\"T_8106d_row8_col1\" class=\"data row8 col1\" >0.059375</td>\n",
       "      <td id=\"T_8106d_row8_col2\" class=\"data row8 col2\" >0.049954</td>\n",
       "      <td id=\"T_8106d_row8_col3\" class=\"data row8 col3\" >0.053759</td>\n",
       "      <td id=\"T_8106d_row8_col4\" class=\"data row8 col4\" >0.127464</td>\n",
       "      <td id=\"T_8106d_row8_col5\" class=\"data row8 col5\" >0.219788</td>\n",
       "      <td id=\"T_8106d_row8_col6\" class=\"data row8 col6\" >0.471501</td>\n",
       "      <td id=\"T_8106d_row8_col7\" class=\"data row8 col7\" >0.635224</td>\n",
       "      <td id=\"T_8106d_row8_col8\" class=\"data row8 col8\" >1.000000</td>\n",
       "      <td id=\"T_8106d_row8_col9\" class=\"data row8 col9\" >-0.040288</td>\n",
       "      <td id=\"T_8106d_row8_col10\" class=\"data row8 col10\" >-0.026979</td>\n",
       "    </tr>\n",
       "    <tr>\n",
       "      <th id=\"T_8106d_level0_row9\" class=\"row_heading level0 row9\" >Year</th>\n",
       "      <td id=\"T_8106d_row9_col0\" class=\"data row9 col0\" >-0.098595</td>\n",
       "      <td id=\"T_8106d_row9_col1\" class=\"data row9 col1\" >-0.099070</td>\n",
       "      <td id=\"T_8106d_row9_col2\" class=\"data row9 col2\" >-0.098186</td>\n",
       "      <td id=\"T_8106d_row9_col3\" class=\"data row9 col3\" >-0.098704</td>\n",
       "      <td id=\"T_8106d_row9_col4\" class=\"data row9 col4\" >-0.005538</td>\n",
       "      <td id=\"T_8106d_row9_col5\" class=\"data row9 col5\" >-0.009150</td>\n",
       "      <td id=\"T_8106d_row9_col6\" class=\"data row9 col6\" >-0.055698</td>\n",
       "      <td id=\"T_8106d_row9_col7\" class=\"data row9 col7\" >-0.085128</td>\n",
       "      <td id=\"T_8106d_row9_col8\" class=\"data row9 col8\" >-0.040288</td>\n",
       "      <td id=\"T_8106d_row9_col9\" class=\"data row9 col9\" >1.000000</td>\n",
       "      <td id=\"T_8106d_row9_col10\" class=\"data row9 col10\" >-0.044389</td>\n",
       "    </tr>\n",
       "    <tr>\n",
       "      <th id=\"T_8106d_level0_row10\" class=\"row_heading level0 row10\" >Month</th>\n",
       "      <td id=\"T_8106d_row10_col0\" class=\"data row10 col0\" >-0.011419</td>\n",
       "      <td id=\"T_8106d_row10_col1\" class=\"data row10 col1\" >-0.011320</td>\n",
       "      <td id=\"T_8106d_row10_col2\" class=\"data row10 col2\" >-0.011886</td>\n",
       "      <td id=\"T_8106d_row10_col3\" class=\"data row10 col3\" >-0.011557</td>\n",
       "      <td id=\"T_8106d_row10_col4\" class=\"data row10 col4\" >-0.004601</td>\n",
       "      <td id=\"T_8106d_row10_col5\" class=\"data row10 col5\" >-0.001600</td>\n",
       "      <td id=\"T_8106d_row10_col6\" class=\"data row10 col6\" >-0.028812</td>\n",
       "      <td id=\"T_8106d_row10_col7\" class=\"data row10 col7\" >-0.031344</td>\n",
       "      <td id=\"T_8106d_row10_col8\" class=\"data row10 col8\" >-0.026979</td>\n",
       "      <td id=\"T_8106d_row10_col9\" class=\"data row10 col9\" >-0.044389</td>\n",
       "      <td id=\"T_8106d_row10_col10\" class=\"data row10 col10\" >1.000000</td>\n",
       "    </tr>\n",
       "  </tbody>\n",
       "</table>\n"
      ],
      "text/plain": [
       "<pandas.io.formats.style.Styler at 0x1d5527050d0>"
      ]
     },
     "execution_count": 28,
     "metadata": {},
     "output_type": "execute_result"
    },
    {
     "data": {
      "text/plain": [
       "<Figure size 1440x1296 with 0 Axes>"
      ]
     },
     "metadata": {},
     "output_type": "display_data"
    }
   ],
   "source": [
    "# Discover correlation coefficient\n",
    "corr = df.corr()\n",
    "plt.figure(figsize=(20, 18))\n",
    "corr.style.background_gradient(cmap='coolwarm')\n"
   ]
  },
  {
   "cell_type": "code",
   "execution_count": 29,
   "id": "ecc40918",
   "metadata": {},
   "outputs": [
    {
     "data": {
      "text/plain": [
       "array(['Energy', 'Materials', 'Industrials', 'Consumer Discretionary',\n",
       "       'Communication Services', 'Consumer Staples', 'Health Care',\n",
       "       'Financials', 'Information Technology', 'Utilities', 'Real Estate'],\n",
       "      dtype=object)"
      ]
     },
     "execution_count": 29,
     "metadata": {},
     "output_type": "execute_result"
    }
   ],
   "source": [
    "# Display sectors of Tadawul data\n",
    "df['Sector'].unique()"
   ]
  },
  {
   "cell_type": "code",
   "execution_count": 30,
   "id": "78e7e76e",
   "metadata": {},
   "outputs": [
    {
     "data": {
      "text/plain": [
       "array(['RIYAD REIT', 'ALJAZIRA REIT', 'JADWA REIT ALHARAMAIN',\n",
       "       'TALEEM REIT', 'AL MAATHER REIT', 'MUSHARAKA REIT', 'MULKIA REIT',\n",
       "       'MASHAAR REIT', 'ALAHLI REIT 1', 'DERAYAH REIT', 'Al RAJHI REIT',\n",
       "       'JADWA REIT SAUDI', 'SEDCO CAPITAL REIT', 'SWICORP WABEL REIT',\n",
       "       'MEFIC REIT', 'BONYAN REIT', 'ALKHABEER REIT', 'SRECO', 'TAIBA',\n",
       "       'MCDC', 'ARDCO', 'EMAAR EC', 'RED SEA', 'JABAL OMAR',\n",
       "       'DAR ALARKAN', 'KEC', 'ALANDALUS', 'ALMRAKEZ'], dtype=object)"
      ]
     },
     "execution_count": 30,
     "metadata": {},
     "output_type": "execute_result"
    }
   ],
   "source": [
    "# Display the Real Estate companies on data \n",
    "df[df['Sector']=='Real Estate']['Company_Name'].unique()"
   ]
  },
  {
   "cell_type": "code",
   "execution_count": 31,
   "id": "2341c5aa",
   "metadata": {},
   "outputs": [
    {
     "data": {
      "text/html": [
       "<div>\n",
       "<style scoped>\n",
       "    .dataframe tbody tr th:only-of-type {\n",
       "        vertical-align: middle;\n",
       "    }\n",
       "\n",
       "    .dataframe tbody tr th {\n",
       "        vertical-align: top;\n",
       "    }\n",
       "\n",
       "    .dataframe thead th {\n",
       "        text-align: right;\n",
       "    }\n",
       "</style>\n",
       "<table border=\"1\" class=\"dataframe\">\n",
       "  <thead>\n",
       "    <tr style=\"text-align: right;\">\n",
       "      <th></th>\n",
       "      <th>Company_Name</th>\n",
       "      <th>Sector</th>\n",
       "      <th>Date</th>\n",
       "      <th>Open</th>\n",
       "      <th>High</th>\n",
       "      <th>Low</th>\n",
       "      <th>Close</th>\n",
       "      <th>Price_Change</th>\n",
       "      <th>%_Change</th>\n",
       "      <th>Volume_Traded</th>\n",
       "      <th>Value_Traded</th>\n",
       "      <th>No_of_Trades</th>\n",
       "      <th>Year</th>\n",
       "      <th>Month</th>\n",
       "    </tr>\n",
       "  </thead>\n",
       "  <tbody>\n",
       "    <tr>\n",
       "      <th>549156</th>\n",
       "      <td>RIYAD REIT</td>\n",
       "      <td>Real Estate</td>\n",
       "      <td>2020-03-05</td>\n",
       "      <td>8.69</td>\n",
       "      <td>8.96</td>\n",
       "      <td>8.69</td>\n",
       "      <td>8.91</td>\n",
       "      <td>0.30</td>\n",
       "      <td>3.48</td>\n",
       "      <td>329074.0</td>\n",
       "      <td>2919780.78</td>\n",
       "      <td>405.0</td>\n",
       "      <td>2020</td>\n",
       "      <td>3</td>\n",
       "    </tr>\n",
       "    <tr>\n",
       "      <th>549157</th>\n",
       "      <td>RIYAD REIT</td>\n",
       "      <td>Real Estate</td>\n",
       "      <td>2020-03-04</td>\n",
       "      <td>8.69</td>\n",
       "      <td>8.75</td>\n",
       "      <td>8.56</td>\n",
       "      <td>8.61</td>\n",
       "      <td>0.03</td>\n",
       "      <td>0.35</td>\n",
       "      <td>649286.0</td>\n",
       "      <td>5628851.72</td>\n",
       "      <td>320.0</td>\n",
       "      <td>2020</td>\n",
       "      <td>3</td>\n",
       "    </tr>\n",
       "    <tr>\n",
       "      <th>549158</th>\n",
       "      <td>RIYAD REIT</td>\n",
       "      <td>Real Estate</td>\n",
       "      <td>2020-03-03</td>\n",
       "      <td>8.48</td>\n",
       "      <td>8.64</td>\n",
       "      <td>8.48</td>\n",
       "      <td>8.58</td>\n",
       "      <td>0.14</td>\n",
       "      <td>1.66</td>\n",
       "      <td>242168.0</td>\n",
       "      <td>2079110.00</td>\n",
       "      <td>241.0</td>\n",
       "      <td>2020</td>\n",
       "      <td>3</td>\n",
       "    </tr>\n",
       "    <tr>\n",
       "      <th>549159</th>\n",
       "      <td>RIYAD REIT</td>\n",
       "      <td>Real Estate</td>\n",
       "      <td>2020-03-02</td>\n",
       "      <td>8.30</td>\n",
       "      <td>8.57</td>\n",
       "      <td>8.30</td>\n",
       "      <td>8.44</td>\n",
       "      <td>0.14</td>\n",
       "      <td>1.69</td>\n",
       "      <td>132201.0</td>\n",
       "      <td>1116460.13</td>\n",
       "      <td>217.0</td>\n",
       "      <td>2020</td>\n",
       "      <td>3</td>\n",
       "    </tr>\n",
       "    <tr>\n",
       "      <th>549160</th>\n",
       "      <td>RIYAD REIT</td>\n",
       "      <td>Real Estate</td>\n",
       "      <td>2020-03-01</td>\n",
       "      <td>8.48</td>\n",
       "      <td>8.48</td>\n",
       "      <td>8.30</td>\n",
       "      <td>8.30</td>\n",
       "      <td>-0.20</td>\n",
       "      <td>-2.35</td>\n",
       "      <td>174369.0</td>\n",
       "      <td>1466967.87</td>\n",
       "      <td>365.0</td>\n",
       "      <td>2020</td>\n",
       "      <td>3</td>\n",
       "    </tr>\n",
       "  </tbody>\n",
       "</table>\n",
       "</div>"
      ],
      "text/plain": [
       "       Company_Name       Sector        Date  Open  High   Low  Close  \\\n",
       "549156   RIYAD REIT  Real Estate  2020-03-05  8.69  8.96  8.69   8.91   \n",
       "549157   RIYAD REIT  Real Estate  2020-03-04  8.69  8.75  8.56   8.61   \n",
       "549158   RIYAD REIT  Real Estate  2020-03-03  8.48  8.64  8.48   8.58   \n",
       "549159   RIYAD REIT  Real Estate  2020-03-02  8.30  8.57  8.30   8.44   \n",
       "549160   RIYAD REIT  Real Estate  2020-03-01  8.48  8.48  8.30   8.30   \n",
       "\n",
       "        Price_Change  %_Change  Volume_Traded  Value_Traded  No_of_Trades  \\\n",
       "549156          0.30      3.48       329074.0    2919780.78         405.0   \n",
       "549157          0.03      0.35       649286.0    5628851.72         320.0   \n",
       "549158          0.14      1.66       242168.0    2079110.00         241.0   \n",
       "549159          0.14      1.69       132201.0    1116460.13         217.0   \n",
       "549160         -0.20     -2.35       174369.0    1466967.87         365.0   \n",
       "\n",
       "        Year  Month  \n",
       "549156  2020      3  \n",
       "549157  2020      3  \n",
       "549158  2020      3  \n",
       "549159  2020      3  \n",
       "549160  2020      3  "
      ]
     },
     "execution_count": 31,
     "metadata": {},
     "output_type": "execute_result"
    }
   ],
   "source": [
    "# Real Estate sector dataset\n",
    "RealEstate_df = df[df['Sector']=='Real Estate']\n",
    "RealEstate_df.head()"
   ]
  },
  {
   "cell_type": "code",
   "execution_count": 32,
   "id": "be454031",
   "metadata": {},
   "outputs": [
    {
     "data": {
      "text/plain": [
       "array(['SARCO', 'SAUDI ARAMCO', 'PETRO RABIGH', 'BAHRI', 'ALDREES'],\n",
       "      dtype=object)"
      ]
     },
     "execution_count": 32,
     "metadata": {},
     "output_type": "execute_result"
    }
   ],
   "source": [
    "# Display the Energy companies on data \n",
    "df[df['Sector']=='Energy']['Company_Name'].unique()"
   ]
  },
  {
   "cell_type": "code",
   "execution_count": 33,
   "id": "790d3fef",
   "metadata": {},
   "outputs": [
    {
     "data": {
      "text/html": [
       "<div>\n",
       "<style scoped>\n",
       "    .dataframe tbody tr th:only-of-type {\n",
       "        vertical-align: middle;\n",
       "    }\n",
       "\n",
       "    .dataframe tbody tr th {\n",
       "        vertical-align: top;\n",
       "    }\n",
       "\n",
       "    .dataframe thead th {\n",
       "        text-align: right;\n",
       "    }\n",
       "</style>\n",
       "<table border=\"1\" class=\"dataframe\">\n",
       "  <thead>\n",
       "    <tr style=\"text-align: right;\">\n",
       "      <th></th>\n",
       "      <th>Company_Name</th>\n",
       "      <th>Sector</th>\n",
       "      <th>Date</th>\n",
       "      <th>Open</th>\n",
       "      <th>High</th>\n",
       "      <th>Low</th>\n",
       "      <th>Close</th>\n",
       "      <th>Price_Change</th>\n",
       "      <th>%_Change</th>\n",
       "      <th>Volume_Traded</th>\n",
       "      <th>Value_Traded</th>\n",
       "      <th>No_of_Trades</th>\n",
       "      <th>Year</th>\n",
       "      <th>Month</th>\n",
       "    </tr>\n",
       "  </thead>\n",
       "  <tbody>\n",
       "    <tr>\n",
       "      <th>0</th>\n",
       "      <td>SARCO</td>\n",
       "      <td>Energy</td>\n",
       "      <td>2020-03-05</td>\n",
       "      <td>35.55</td>\n",
       "      <td>35.85</td>\n",
       "      <td>34.90</td>\n",
       "      <td>34.90</td>\n",
       "      <td>-0.40</td>\n",
       "      <td>-1.13</td>\n",
       "      <td>436609.0</td>\n",
       "      <td>15399073.50</td>\n",
       "      <td>804.0</td>\n",
       "      <td>2020</td>\n",
       "      <td>3</td>\n",
       "    </tr>\n",
       "    <tr>\n",
       "      <th>1</th>\n",
       "      <td>SARCO</td>\n",
       "      <td>Energy</td>\n",
       "      <td>2020-03-04</td>\n",
       "      <td>34.70</td>\n",
       "      <td>35.65</td>\n",
       "      <td>34.50</td>\n",
       "      <td>35.30</td>\n",
       "      <td>0.25</td>\n",
       "      <td>0.71</td>\n",
       "      <td>737624.0</td>\n",
       "      <td>25981391.35</td>\n",
       "      <td>1268.0</td>\n",
       "      <td>2020</td>\n",
       "      <td>3</td>\n",
       "    </tr>\n",
       "    <tr>\n",
       "      <th>2</th>\n",
       "      <td>SARCO</td>\n",
       "      <td>Energy</td>\n",
       "      <td>2020-03-03</td>\n",
       "      <td>34.70</td>\n",
       "      <td>35.15</td>\n",
       "      <td>34.70</td>\n",
       "      <td>35.05</td>\n",
       "      <td>1.05</td>\n",
       "      <td>3.09</td>\n",
       "      <td>489831.0</td>\n",
       "      <td>17116413.40</td>\n",
       "      <td>854.0</td>\n",
       "      <td>2020</td>\n",
       "      <td>3</td>\n",
       "    </tr>\n",
       "    <tr>\n",
       "      <th>3</th>\n",
       "      <td>SARCO</td>\n",
       "      <td>Energy</td>\n",
       "      <td>2020-03-02</td>\n",
       "      <td>35.20</td>\n",
       "      <td>35.65</td>\n",
       "      <td>34.00</td>\n",
       "      <td>34.00</td>\n",
       "      <td>-0.55</td>\n",
       "      <td>-1.59</td>\n",
       "      <td>736157.0</td>\n",
       "      <td>25858700.60</td>\n",
       "      <td>1242.0</td>\n",
       "      <td>2020</td>\n",
       "      <td>3</td>\n",
       "    </tr>\n",
       "    <tr>\n",
       "      <th>4</th>\n",
       "      <td>SARCO</td>\n",
       "      <td>Energy</td>\n",
       "      <td>2020-03-01</td>\n",
       "      <td>35.35</td>\n",
       "      <td>35.60</td>\n",
       "      <td>34.25</td>\n",
       "      <td>34.55</td>\n",
       "      <td>-2.05</td>\n",
       "      <td>-5.60</td>\n",
       "      <td>738685.0</td>\n",
       "      <td>25747967.55</td>\n",
       "      <td>1625.0</td>\n",
       "      <td>2020</td>\n",
       "      <td>3</td>\n",
       "    </tr>\n",
       "  </tbody>\n",
       "</table>\n",
       "</div>"
      ],
      "text/plain": [
       "  Company_Name  Sector        Date   Open   High    Low  Close  Price_Change  \\\n",
       "0        SARCO  Energy  2020-03-05  35.55  35.85  34.90  34.90         -0.40   \n",
       "1        SARCO  Energy  2020-03-04  34.70  35.65  34.50  35.30          0.25   \n",
       "2        SARCO  Energy  2020-03-03  34.70  35.15  34.70  35.05          1.05   \n",
       "3        SARCO  Energy  2020-03-02  35.20  35.65  34.00  34.00         -0.55   \n",
       "4        SARCO  Energy  2020-03-01  35.35  35.60  34.25  34.55         -2.05   \n",
       "\n",
       "   %_Change  Volume_Traded  Value_Traded  No_of_Trades  Year  Month  \n",
       "0     -1.13       436609.0   15399073.50         804.0  2020      3  \n",
       "1      0.71       737624.0   25981391.35        1268.0  2020      3  \n",
       "2      3.09       489831.0   17116413.40         854.0  2020      3  \n",
       "3     -1.59       736157.0   25858700.60        1242.0  2020      3  \n",
       "4     -5.60       738685.0   25747967.55        1625.0  2020      3  "
      ]
     },
     "execution_count": 33,
     "metadata": {},
     "output_type": "execute_result"
    }
   ],
   "source": [
    "# Energy sector dataset\n",
    "Energy_df = df[df['Sector']=='Energy']\n",
    "Energy_df.head()"
   ]
  },
  {
   "cell_type": "markdown",
   "id": "e8cfa989",
   "metadata": {},
   "source": [
    "## Data Visualization "
   ]
  },
  {
   "cell_type": "code",
   "execution_count": 73,
   "id": "6694c8cb",
   "metadata": {},
   "outputs": [
    {
     "data": {
      "image/png": "[encoded data removed]",
      "text/plain": [
       "<Figure size 720x720 with 20 Axes>"
      ]
     },
     "metadata": {
      "needs_background": "light"
     },
     "output_type": "display_data"
    }
   ],
   "source": [
    "# Specify the columns \n",
    "cols_to_plot = df.columns[3:7] \n",
    "# plot the pairplot\n",
    "sns.pairplot(df[cols_to_plot])\n",
    "plt.show()\n"
   ]
  },
  {
   "cell_type": "code",
   "execution_count": 166,
   "id": "28a07ecf",
   "metadata": {},
   "outputs": [
    {
     "data": {
      "image/png": "[encoded data removed]",
      "text/plain": [
       "<Figure size 1584x720 with 1 Axes>"
      ]
     },
     "metadata": {
      "needs_background": "light"
     },
     "output_type": "display_data"
    }
   ],
   "source": [
    "# Plotting the counter of Trading in Saudi's Sectors\n",
    "\n",
    "# creating data on which bar chart will be plot\n",
    "x = df.Sector\n",
    "y=df.Sector.value_counts()\n",
    "\n",
    "plt.subplots(figsize=(22,10)) \n",
    "\n",
    "\n",
    "# parameters size & sort the values\n",
    "plt.rcParams.update({'font.size': 10})\n",
    "ax=sns.countplot(df.Sector, palette='Purples',order = df['Sector'].value_counts().index [::-1])\n",
    "\n",
    "# show the value of each bar \n",
    "for p in ax.patches:  \n",
    "    ax.annotate('{:.1f}'.format(p.get_height()), (p.get_x()+0.10, p.get_height()+0.1), size=15)\n",
    "\n",
    "plt.title(\" Count of Trading in Saudi's Sectors \",fontsize=25)\n",
    "plt.xlabel('Sectors' , fontsize=20)\n",
    "plt.ylabel('Count',fontsize=20)\n",
    "\n",
    "plt.show()"
   ]
  },
  {
   "cell_type": "code",
   "execution_count": 75,
   "id": "040e4a36",
   "metadata": {},
   "outputs": [
    {
     "data": {
      "text/plain": [
       "[773.9941187170315]"
      ]
     },
     "execution_count": 75,
     "metadata": {},
     "output_type": "execute_result"
    }
   ],
   "source": [
    "col_name=[RealEstate_df['No_of_Trades'].mean()]\n",
    "col_name"
   ]
  },
  {
   "cell_type": "code",
   "execution_count": 76,
   "id": "e4872030",
   "metadata": {},
   "outputs": [
    {
     "data": {
      "text/plain": [
       "[879.8797301261367]"
      ]
     },
     "execution_count": 76,
     "metadata": {},
     "output_type": "execute_result"
    }
   ],
   "source": [
    "col_name2=[Energy_df['No_of_Trades'].mean()]\n",
    "col_name2"
   ]
  },
  {
   "cell_type": "code",
   "execution_count": 167,
   "id": "2e8f1f9c",
   "metadata": {},
   "outputs": [
    {
     "data": {
      "image/png": "[encoded data removed]",
      "text/plain": [
       "<Figure size 720x504 with 1 Axes>"
      ]
     },
     "metadata": {
      "needs_background": "light"
     },
     "output_type": "display_data"
    }
   ],
   "source": [
    "# Plotting the counter of number of Trading in Saudi's Sectors\n",
    "\n",
    "# creating data on which bar chart will be plot\n",
    "x = ['Real Estate Sector' , 'Energy Sector']\n",
    "y= [774,880]\n",
    "\n",
    "plt.subplots(figsize=(10,7)) \n",
    "\n",
    "\n",
    "# parameters size & sort the values\n",
    "plt.rcParams.update({'font.size': 10})\n",
    "ax=sns.barplot(x,y, palette='Purples')\n",
    "\n",
    "# show the value of each bar \n",
    "for p in ax.patches:  \n",
    "    ax.annotate('{:.1f}'.format(p.get_height()), (p.get_x()+0.30, p.get_height()+0.1), size=15)\n",
    "\n",
    "plt.title(\" The Average Number of Trades for Energy & Real Estate Sectors \",fontsize=15)\n",
    "plt.xlabel('Sectors' , fontsize=20)\n",
    "plt.ylabel('Count',fontsize=20)\n",
    "\n",
    "plt.show()"
   ]
  },
  {
   "cell_type": "code",
   "execution_count": 201,
   "id": "c6bebb0d",
   "metadata": {},
   "outputs": [
    {
     "data": {
      "image/png": "[encoded data removed]",
      "text/plain": [
       "<Figure size 1080x504 with 2 Axes>"
      ]
     },
     "metadata": {
      "needs_background": "light"
     },
     "output_type": "display_data"
    }
   ],
   "source": [
    "# plotting the distribution of Stock Close prices of Saudi Real Estate & Energy sectors\n",
    "plt.figure(figsize=(15,7))\n",
    "\n",
    "\n",
    "plt.subplot(1, 2, 1)\n",
    "sns.distplot(RealEstate_df['Close'])\n",
    "plt.title('Distribution of Stock Close prices of Saudi Real Estate Sector ')\n",
    "plt.ylabel('Frequency')\n",
    "plt.xlabel('Real Estate Close Price (SAR)')\n",
    "#---------------------------#\n",
    "\n",
    "plt.subplot(1, 2, 2)\n",
    "sns.distplot(Energy_df['Close'])\n",
    "plt.title('Distribution of Stock Close Prices of Saudi Energy Sector')\n",
    "plt.ylabel('Frequency')\n",
    "plt.xlabel('Energy Close Price (SAR) ')\n",
    "plt.show()"
   ]
  },
  {
   "cell_type": "code",
   "execution_count": 203,
   "id": "9692408f",
   "metadata": {},
   "outputs": [
    {
     "data": {
      "text/html": [
       "<div>\n",
       "<style scoped>\n",
       "    .dataframe tbody tr th:only-of-type {\n",
       "        vertical-align: middle;\n",
       "    }\n",
       "\n",
       "    .dataframe tbody tr th {\n",
       "        vertical-align: top;\n",
       "    }\n",
       "\n",
       "    .dataframe thead th {\n",
       "        text-align: right;\n",
       "    }\n",
       "</style>\n",
       "<table border=\"1\" class=\"dataframe\">\n",
       "  <thead>\n",
       "    <tr style=\"text-align: right;\">\n",
       "      <th></th>\n",
       "      <th>Company_Name</th>\n",
       "      <th>Sector</th>\n",
       "      <th>Date</th>\n",
       "      <th>Open</th>\n",
       "      <th>High</th>\n",
       "      <th>Low</th>\n",
       "      <th>Close</th>\n",
       "      <th>Price_Change</th>\n",
       "      <th>%_Change</th>\n",
       "      <th>Volume_Traded</th>\n",
       "      <th>Value_Traded</th>\n",
       "      <th>No_of_Trades</th>\n",
       "      <th>Year</th>\n",
       "      <th>Month</th>\n",
       "    </tr>\n",
       "  </thead>\n",
       "  <tbody>\n",
       "    <tr>\n",
       "      <th>570439</th>\n",
       "      <td>MCDC</td>\n",
       "      <td>Real Estate</td>\n",
       "      <td>2010-01-02</td>\n",
       "      <td>26.90</td>\n",
       "      <td>27.00</td>\n",
       "      <td>26.70</td>\n",
       "      <td>27.00</td>\n",
       "      <td>0.10</td>\n",
       "      <td>0.37</td>\n",
       "      <td>61773.0</td>\n",
       "      <td>1656860.50</td>\n",
       "      <td>48.0</td>\n",
       "      <td>2010</td>\n",
       "      <td>1</td>\n",
       "    </tr>\n",
       "    <tr>\n",
       "      <th>586633</th>\n",
       "      <td>JABAL OMAR</td>\n",
       "      <td>Real Estate</td>\n",
       "      <td>2010-01-02</td>\n",
       "      <td>16.75</td>\n",
       "      <td>16.80</td>\n",
       "      <td>16.55</td>\n",
       "      <td>16.70</td>\n",
       "      <td>-0.05</td>\n",
       "      <td>-0.30</td>\n",
       "      <td>744603.0</td>\n",
       "      <td>12430993.05</td>\n",
       "      <td>435.0</td>\n",
       "      <td>2010</td>\n",
       "      <td>1</td>\n",
       "    </tr>\n",
       "    <tr>\n",
       "      <th>575197</th>\n",
       "      <td>ARDCO</td>\n",
       "      <td>Real Estate</td>\n",
       "      <td>2010-01-02</td>\n",
       "      <td>6.75</td>\n",
       "      <td>6.75</td>\n",
       "      <td>6.71</td>\n",
       "      <td>6.72</td>\n",
       "      <td>-0.03</td>\n",
       "      <td>-0.44</td>\n",
       "      <td>670523.0</td>\n",
       "      <td>4517059.70</td>\n",
       "      <td>156.0</td>\n",
       "      <td>2010</td>\n",
       "      <td>1</td>\n",
       "    </tr>\n",
       "    <tr>\n",
       "      <th>565681</th>\n",
       "      <td>TAIBA</td>\n",
       "      <td>Real Estate</td>\n",
       "      <td>2010-01-02</td>\n",
       "      <td>16.60</td>\n",
       "      <td>16.70</td>\n",
       "      <td>16.55</td>\n",
       "      <td>16.60</td>\n",
       "      <td>-0.20</td>\n",
       "      <td>-1.19</td>\n",
       "      <td>138357.0</td>\n",
       "      <td>2299261.10</td>\n",
       "      <td>128.0</td>\n",
       "      <td>2010</td>\n",
       "      <td>1</td>\n",
       "    </tr>\n",
       "    <tr>\n",
       "      <th>579956</th>\n",
       "      <td>EMAAR EC</td>\n",
       "      <td>Real Estate</td>\n",
       "      <td>2010-01-02</td>\n",
       "      <td>9.60</td>\n",
       "      <td>9.65</td>\n",
       "      <td>9.55</td>\n",
       "      <td>9.60</td>\n",
       "      <td>0.00</td>\n",
       "      <td>0.00</td>\n",
       "      <td>1047778.0</td>\n",
       "      <td>10063110.65</td>\n",
       "      <td>675.0</td>\n",
       "      <td>2010</td>\n",
       "      <td>1</td>\n",
       "    </tr>\n",
       "  </tbody>\n",
       "</table>\n",
       "</div>"
      ],
      "text/plain": [
       "       Company_Name       Sector       Date   Open   High    Low  Close  \\\n",
       "570439         MCDC  Real Estate 2010-01-02  26.90  27.00  26.70  27.00   \n",
       "586633   JABAL OMAR  Real Estate 2010-01-02  16.75  16.80  16.55  16.70   \n",
       "575197        ARDCO  Real Estate 2010-01-02   6.75   6.75   6.71   6.72   \n",
       "565681        TAIBA  Real Estate 2010-01-02  16.60  16.70  16.55  16.60   \n",
       "579956     EMAAR EC  Real Estate 2010-01-02   9.60   9.65   9.55   9.60   \n",
       "\n",
       "        Price_Change  %_Change  Volume_Traded  Value_Traded  No_of_Trades  \\\n",
       "570439          0.10      0.37        61773.0    1656860.50          48.0   \n",
       "586633         -0.05     -0.30       744603.0   12430993.05         435.0   \n",
       "575197         -0.03     -0.44       670523.0    4517059.70         156.0   \n",
       "565681         -0.20     -1.19       138357.0    2299261.10         128.0   \n",
       "579956          0.00      0.00      1047778.0   10063110.65         675.0   \n",
       "\n",
       "        Year  Month  \n",
       "570439  2010      1  \n",
       "586633  2010      1  \n",
       "575197  2010      1  \n",
       "565681  2010      1  \n",
       "579956  2010      1  "
      ]
     },
     "execution_count": 203,
     "metadata": {},
     "output_type": "execute_result"
    }
   ],
   "source": [
    "# Display the data of Real Estate sector only, and sort it by the date\n",
    "RealEstate_df['Date']= pd.to_datetime(RealEstate_df['Date'])\n",
    "RealEstate_df.sort_values('Date', inplace=True)\n",
    "RealEstate_df.head(5)"
   ]
  },
  {
   "cell_type": "code",
   "execution_count": 204,
   "id": "70c377e4",
   "metadata": {
    "scrolled": false
   },
   "outputs": [
    {
     "data": {
      "image/png": "[encoded data removed]",
      "text/plain": [
       "<Figure size 1224x432 with 1 Axes>"
      ]
     },
     "metadata": {
      "needs_background": "light"
     },
     "output_type": "display_data"
    }
   ],
   "source": [
    "# Visulization of Closing price of Saudi Stocks in the Real Estate sector in 2019\n",
    "\n",
    "# Take the Real Estate  of 2019 only\n",
    "RealEstate_2019 = RealEstate_df.loc[(RealEstate_df.Date > '2019-01-01')& (RealEstate_df.Date < '2020-01-01') & (RealEstate_df.Close >20)]\n",
    "\n",
    "# Set the size of chart as 17 * 6\n",
    "plt.figure(figsize=(17, 6))\n",
    "\n",
    "# Line chart \n",
    "sns.lineplot(x = RealEstate_2019.Date, y=\"Close\", hue = \"Company_Name\", markers = True, data = RealEstate_2019)\n",
    "plt.title('Closing price of top 4 Saudi Stocks in the Real Estate sector in 2019')\n",
    "plt.xlabel('Year')\n",
    "plt.ylabel('Closing price (SAR)')\n",
    "plt.legend(loc ='upper center', bbox_to_anchor = (0.5, -0.05), fancybox=True, shadow=True, ncol=5)\n",
    "plt.grid(True)\n",
    "plt.show()"
   ]
  },
  {
   "cell_type": "code",
   "execution_count": 206,
   "id": "4fec560a",
   "metadata": {},
   "outputs": [
    {
     "data": {
      "text/html": [
       "<div>\n",
       "<style scoped>\n",
       "    .dataframe tbody tr th:only-of-type {\n",
       "        vertical-align: middle;\n",
       "    }\n",
       "\n",
       "    .dataframe tbody tr th {\n",
       "        vertical-align: top;\n",
       "    }\n",
       "\n",
       "    .dataframe thead th {\n",
       "        text-align: right;\n",
       "    }\n",
       "</style>\n",
       "<table border=\"1\" class=\"dataframe\">\n",
       "  <thead>\n",
       "    <tr style=\"text-align: right;\">\n",
       "      <th></th>\n",
       "      <th>Company_Name</th>\n",
       "      <th>Sector</th>\n",
       "      <th>Date</th>\n",
       "      <th>Open</th>\n",
       "      <th>High</th>\n",
       "      <th>Low</th>\n",
       "      <th>Close</th>\n",
       "      <th>Price_Change</th>\n",
       "      <th>%_Change</th>\n",
       "      <th>Volume_Traded</th>\n",
       "      <th>Value_Traded</th>\n",
       "      <th>No_of_Trades</th>\n",
       "      <th>Year</th>\n",
       "      <th>Month</th>\n",
       "    </tr>\n",
       "  </thead>\n",
       "  <tbody>\n",
       "    <tr>\n",
       "      <th>14843</th>\n",
       "      <td>ALDREES</td>\n",
       "      <td>Energy</td>\n",
       "      <td>2010-01-02</td>\n",
       "      <td>15.88</td>\n",
       "      <td>15.88</td>\n",
       "      <td>15.71</td>\n",
       "      <td>15.77</td>\n",
       "      <td>0.0</td>\n",
       "      <td>0.00</td>\n",
       "      <td>79578.0</td>\n",
       "      <td>1257740.10</td>\n",
       "      <td>90.0</td>\n",
       "      <td>2010</td>\n",
       "      <td>1</td>\n",
       "    </tr>\n",
       "    <tr>\n",
       "      <th>2541</th>\n",
       "      <td>SARCO</td>\n",
       "      <td>Energy</td>\n",
       "      <td>2010-01-02</td>\n",
       "      <td>49.80</td>\n",
       "      <td>50.25</td>\n",
       "      <td>49.70</td>\n",
       "      <td>49.90</td>\n",
       "      <td>0.1</td>\n",
       "      <td>0.20</td>\n",
       "      <td>76316.0</td>\n",
       "      <td>3809644.65</td>\n",
       "      <td>200.0</td>\n",
       "      <td>2010</td>\n",
       "      <td>1</td>\n",
       "    </tr>\n",
       "    <tr>\n",
       "      <th>10086</th>\n",
       "      <td>BAHRI</td>\n",
       "      <td>Energy</td>\n",
       "      <td>2010-01-02</td>\n",
       "      <td>17.80</td>\n",
       "      <td>18.20</td>\n",
       "      <td>17.65</td>\n",
       "      <td>18.15</td>\n",
       "      <td>0.4</td>\n",
       "      <td>2.25</td>\n",
       "      <td>1885686.0</td>\n",
       "      <td>33710771.35</td>\n",
       "      <td>518.0</td>\n",
       "      <td>2010</td>\n",
       "      <td>1</td>\n",
       "    </tr>\n",
       "    <tr>\n",
       "      <th>7061</th>\n",
       "      <td>PETRO RABIGH</td>\n",
       "      <td>Energy</td>\n",
       "      <td>2010-01-02</td>\n",
       "      <td>35.80</td>\n",
       "      <td>35.90</td>\n",
       "      <td>35.60</td>\n",
       "      <td>35.70</td>\n",
       "      <td>0.2</td>\n",
       "      <td>0.56</td>\n",
       "      <td>864899.0</td>\n",
       "      <td>30892887.30</td>\n",
       "      <td>680.0</td>\n",
       "      <td>2010</td>\n",
       "      <td>1</td>\n",
       "    </tr>\n",
       "    <tr>\n",
       "      <th>7060</th>\n",
       "      <td>PETRO RABIGH</td>\n",
       "      <td>Energy</td>\n",
       "      <td>2010-01-03</td>\n",
       "      <td>35.80</td>\n",
       "      <td>36.00</td>\n",
       "      <td>35.50</td>\n",
       "      <td>35.80</td>\n",
       "      <td>0.1</td>\n",
       "      <td>0.28</td>\n",
       "      <td>1013744.0</td>\n",
       "      <td>36204432.70</td>\n",
       "      <td>664.0</td>\n",
       "      <td>2010</td>\n",
       "      <td>1</td>\n",
       "    </tr>\n",
       "  </tbody>\n",
       "</table>\n",
       "</div>"
      ],
      "text/plain": [
       "       Company_Name  Sector       Date   Open   High    Low  Close  \\\n",
       "14843       ALDREES  Energy 2010-01-02  15.88  15.88  15.71  15.77   \n",
       "2541          SARCO  Energy 2010-01-02  49.80  50.25  49.70  49.90   \n",
       "10086         BAHRI  Energy 2010-01-02  17.80  18.20  17.65  18.15   \n",
       "7061   PETRO RABIGH  Energy 2010-01-02  35.80  35.90  35.60  35.70   \n",
       "7060   PETRO RABIGH  Energy 2010-01-03  35.80  36.00  35.50  35.80   \n",
       "\n",
       "       Price_Change  %_Change  Volume_Traded  Value_Traded  No_of_Trades  \\\n",
       "14843           0.0      0.00        79578.0    1257740.10          90.0   \n",
       "2541            0.1      0.20        76316.0    3809644.65         200.0   \n",
       "10086           0.4      2.25      1885686.0   33710771.35         518.0   \n",
       "7061            0.2      0.56       864899.0   30892887.30         680.0   \n",
       "7060            0.1      0.28      1013744.0   36204432.70         664.0   \n",
       "\n",
       "       Year  Month  \n",
       "14843  2010      1  \n",
       "2541   2010      1  \n",
       "10086  2010      1  \n",
       "7061   2010      1  \n",
       "7060   2010      1  "
      ]
     },
     "execution_count": 206,
     "metadata": {},
     "output_type": "execute_result"
    }
   ],
   "source": [
    "# Display the data of Energy sector only, and sort it by the date\n",
    "Energy_df['Date']= pd.to_datetime(Energy_df['Date'])\n",
    "Energy_df.sort_values('Date', inplace=True)\n",
    "Energy_df.head(5)"
   ]
  },
  {
   "cell_type": "code",
   "execution_count": 207,
   "id": "20ca3e44",
   "metadata": {},
   "outputs": [
    {
     "data": {
      "image/png": "[encoded data removed]",
      "text/plain": [
       "<Figure size 1224x432 with 1 Axes>"
      ]
     },
     "metadata": {
      "needs_background": "light"
     },
     "output_type": "display_data"
    }
   ],
   "source": [
    "# Visulization of Closing price of Saudi Stocks in the Energy sector in 2019\n",
    "\n",
    "# Take the Energy of 2019 only\n",
    "Energy_df_2019 = Energy_df.loc[(Energy_df.Date > '2019-01-01')& (Energy_df.Date < '2020-01-01') & (Energy_df.Close >20)]\n",
    "\n",
    "# Set the size of chart as 17 * 6\n",
    "plt.figure(figsize=(17, 6))\n",
    "\n",
    "# Line chart \n",
    "sns.lineplot(x = Energy_df.Date, y=\"Close\", hue = \"Company_Name\", markers = True, data = Energy_df_2019)\n",
    "plt.title('Closing price of top 5 Saudi Stocks in the Energy Sector in 2019')\n",
    "plt.xlabel('Year')\n",
    "plt.ylabel('Closing price (SAR)')\n",
    "plt.legend(loc ='upper center', bbox_to_anchor = (0.5, -0.05), fancybox=True, shadow=True, ncol=5)\n",
    "plt.grid(True)\n",
    "plt.show()"
   ]
  },
  {
   "cell_type": "markdown",
   "id": "a929bb26",
   "metadata": {},
   "source": [
    "## Stage3. Data Preparation for Modelling\n",
    "This stage aims to identify the most important features that will be included in training the model to reach best prediction model."
   ]
  },
  {
   "cell_type": "markdown",
   "id": "6c641a22",
   "metadata": {},
   "source": [
    "## Real Estate Sector"
   ]
  },
  {
   "cell_type": "code",
   "execution_count": 175,
   "id": "d5bd3e64",
   "metadata": {},
   "outputs": [
    {
     "data": {
      "text/html": [
       "<div>\n",
       "<style scoped>\n",
       "    .dataframe tbody tr th:only-of-type {\n",
       "        vertical-align: middle;\n",
       "    }\n",
       "\n",
       "    .dataframe tbody tr th {\n",
       "        vertical-align: top;\n",
       "    }\n",
       "\n",
       "    .dataframe thead th {\n",
       "        text-align: right;\n",
       "    }\n",
       "</style>\n",
       "<table border=\"1\" class=\"dataframe\">\n",
       "  <thead>\n",
       "    <tr style=\"text-align: right;\">\n",
       "      <th></th>\n",
       "      <th>Company_Name</th>\n",
       "      <th>Sector</th>\n",
       "      <th>Date</th>\n",
       "      <th>Open</th>\n",
       "      <th>High</th>\n",
       "      <th>Low</th>\n",
       "      <th>Close</th>\n",
       "      <th>Price_Change</th>\n",
       "      <th>%_Change</th>\n",
       "      <th>Volume_Traded</th>\n",
       "      <th>Value_Traded</th>\n",
       "      <th>No_of_Trades</th>\n",
       "      <th>Year</th>\n",
       "      <th>Month</th>\n",
       "    </tr>\n",
       "  </thead>\n",
       "  <tbody>\n",
       "    <tr>\n",
       "      <th>549156</th>\n",
       "      <td>RIYAD REIT</td>\n",
       "      <td>Real Estate</td>\n",
       "      <td>2020-03-05</td>\n",
       "      <td>8.69</td>\n",
       "      <td>8.96</td>\n",
       "      <td>8.69</td>\n",
       "      <td>8.91</td>\n",
       "      <td>0.30</td>\n",
       "      <td>3.48</td>\n",
       "      <td>329074.0</td>\n",
       "      <td>2919780.78</td>\n",
       "      <td>405.0</td>\n",
       "      <td>2020</td>\n",
       "      <td>3</td>\n",
       "    </tr>\n",
       "    <tr>\n",
       "      <th>549157</th>\n",
       "      <td>RIYAD REIT</td>\n",
       "      <td>Real Estate</td>\n",
       "      <td>2020-03-04</td>\n",
       "      <td>8.69</td>\n",
       "      <td>8.75</td>\n",
       "      <td>8.56</td>\n",
       "      <td>8.61</td>\n",
       "      <td>0.03</td>\n",
       "      <td>0.35</td>\n",
       "      <td>649286.0</td>\n",
       "      <td>5628851.72</td>\n",
       "      <td>320.0</td>\n",
       "      <td>2020</td>\n",
       "      <td>3</td>\n",
       "    </tr>\n",
       "    <tr>\n",
       "      <th>549158</th>\n",
       "      <td>RIYAD REIT</td>\n",
       "      <td>Real Estate</td>\n",
       "      <td>2020-03-03</td>\n",
       "      <td>8.48</td>\n",
       "      <td>8.64</td>\n",
       "      <td>8.48</td>\n",
       "      <td>8.58</td>\n",
       "      <td>0.14</td>\n",
       "      <td>1.66</td>\n",
       "      <td>242168.0</td>\n",
       "      <td>2079110.00</td>\n",
       "      <td>241.0</td>\n",
       "      <td>2020</td>\n",
       "      <td>3</td>\n",
       "    </tr>\n",
       "    <tr>\n",
       "      <th>549159</th>\n",
       "      <td>RIYAD REIT</td>\n",
       "      <td>Real Estate</td>\n",
       "      <td>2020-03-02</td>\n",
       "      <td>8.30</td>\n",
       "      <td>8.57</td>\n",
       "      <td>8.30</td>\n",
       "      <td>8.44</td>\n",
       "      <td>0.14</td>\n",
       "      <td>1.69</td>\n",
       "      <td>132201.0</td>\n",
       "      <td>1116460.13</td>\n",
       "      <td>217.0</td>\n",
       "      <td>2020</td>\n",
       "      <td>3</td>\n",
       "    </tr>\n",
       "    <tr>\n",
       "      <th>549160</th>\n",
       "      <td>RIYAD REIT</td>\n",
       "      <td>Real Estate</td>\n",
       "      <td>2020-03-01</td>\n",
       "      <td>8.48</td>\n",
       "      <td>8.48</td>\n",
       "      <td>8.30</td>\n",
       "      <td>8.30</td>\n",
       "      <td>-0.20</td>\n",
       "      <td>-2.35</td>\n",
       "      <td>174369.0</td>\n",
       "      <td>1466967.87</td>\n",
       "      <td>365.0</td>\n",
       "      <td>2020</td>\n",
       "      <td>3</td>\n",
       "    </tr>\n",
       "  </tbody>\n",
       "</table>\n",
       "</div>"
      ],
      "text/plain": [
       "       Company_Name       Sector        Date  Open  High   Low  Close  \\\n",
       "549156   RIYAD REIT  Real Estate  2020-03-05  8.69  8.96  8.69   8.91   \n",
       "549157   RIYAD REIT  Real Estate  2020-03-04  8.69  8.75  8.56   8.61   \n",
       "549158   RIYAD REIT  Real Estate  2020-03-03  8.48  8.64  8.48   8.58   \n",
       "549159   RIYAD REIT  Real Estate  2020-03-02  8.30  8.57  8.30   8.44   \n",
       "549160   RIYAD REIT  Real Estate  2020-03-01  8.48  8.48  8.30   8.30   \n",
       "\n",
       "        Price_Change  %_Change  Volume_Traded  Value_Traded  No_of_Trades  \\\n",
       "549156          0.30      3.48       329074.0    2919780.78         405.0   \n",
       "549157          0.03      0.35       649286.0    5628851.72         320.0   \n",
       "549158          0.14      1.66       242168.0    2079110.00         241.0   \n",
       "549159          0.14      1.69       132201.0    1116460.13         217.0   \n",
       "549160         -0.20     -2.35       174369.0    1466967.87         365.0   \n",
       "\n",
       "        Year  Month  \n",
       "549156  2020      3  \n",
       "549157  2020      3  \n",
       "549158  2020      3  \n",
       "549159  2020      3  \n",
       "549160  2020      3  "
      ]
     },
     "execution_count": 175,
     "metadata": {},
     "output_type": "execute_result"
    }
   ],
   "source": [
    "# Disply first five rows of data\n",
    "RealEstate_df.head(5)"
   ]
  },
  {
   "cell_type": "code",
   "execution_count": 176,
   "id": "758ec9be",
   "metadata": {},
   "outputs": [],
   "source": [
    "# Create my X, y data\n",
    "\n",
    "target = 'No_of_Trades' # Target Varible\n",
    "features = ['Company_Name','Value_Traded','Volume_Traded','Price_Change','%_Change','Year','Month','Open','Close']\n",
    "\n",
    "\n",
    "X = RealEstate_df[features]\n",
    "y = RealEstate_df[target]\n"
   ]
  },
  {
   "cell_type": "code",
   "execution_count": 177,
   "id": "789bf273",
   "metadata": {},
   "outputs": [],
   "source": [
    "# Label Encoding the \"Company Name\" column\n",
    "\n",
    "le = LabelEncoder()\n",
    "\n",
    "X.iloc[:,0] = le.fit_transform(X.iloc[:,0])"
   ]
  },
  {
   "cell_type": "code",
   "execution_count": 178,
   "id": "224382c8",
   "metadata": {},
   "outputs": [],
   "source": [
    "# Train Test Split\n",
    "X_train, X_test, y_train, y_test = train_test_split(X, y, train_size=0.8, random_state=2)"
   ]
  },
  {
   "cell_type": "code",
   "execution_count": 179,
   "id": "608eaf02",
   "metadata": {},
   "outputs": [
    {
     "data": {
      "text/html": [
       "<div>\n",
       "<style scoped>\n",
       "    .dataframe tbody tr th:only-of-type {\n",
       "        vertical-align: middle;\n",
       "    }\n",
       "\n",
       "    .dataframe tbody tr th {\n",
       "        vertical-align: top;\n",
       "    }\n",
       "\n",
       "    .dataframe thead th {\n",
       "        text-align: right;\n",
       "    }\n",
       "</style>\n",
       "<table border=\"1\" class=\"dataframe\">\n",
       "  <thead>\n",
       "    <tr style=\"text-align: right;\">\n",
       "      <th></th>\n",
       "      <th>Company_Name</th>\n",
       "      <th>Value_Traded</th>\n",
       "      <th>Volume_Traded</th>\n",
       "      <th>Price_Change</th>\n",
       "      <th>%_Change</th>\n",
       "      <th>Year</th>\n",
       "      <th>Month</th>\n",
       "      <th>Open</th>\n",
       "      <th>Close</th>\n",
       "    </tr>\n",
       "  </thead>\n",
       "  <tbody>\n",
       "    <tr>\n",
       "      <th>549156</th>\n",
       "      <td>22</td>\n",
       "      <td>2919780.78</td>\n",
       "      <td>329074.0</td>\n",
       "      <td>0.30</td>\n",
       "      <td>3.48</td>\n",
       "      <td>2020</td>\n",
       "      <td>3</td>\n",
       "      <td>8.69</td>\n",
       "      <td>8.91</td>\n",
       "    </tr>\n",
       "    <tr>\n",
       "      <th>549157</th>\n",
       "      <td>22</td>\n",
       "      <td>5628851.72</td>\n",
       "      <td>649286.0</td>\n",
       "      <td>0.03</td>\n",
       "      <td>0.35</td>\n",
       "      <td>2020</td>\n",
       "      <td>3</td>\n",
       "      <td>8.69</td>\n",
       "      <td>8.61</td>\n",
       "    </tr>\n",
       "    <tr>\n",
       "      <th>549158</th>\n",
       "      <td>22</td>\n",
       "      <td>2079110.00</td>\n",
       "      <td>242168.0</td>\n",
       "      <td>0.14</td>\n",
       "      <td>1.66</td>\n",
       "      <td>2020</td>\n",
       "      <td>3</td>\n",
       "      <td>8.48</td>\n",
       "      <td>8.58</td>\n",
       "    </tr>\n",
       "    <tr>\n",
       "      <th>549159</th>\n",
       "      <td>22</td>\n",
       "      <td>1116460.13</td>\n",
       "      <td>132201.0</td>\n",
       "      <td>0.14</td>\n",
       "      <td>1.69</td>\n",
       "      <td>2020</td>\n",
       "      <td>3</td>\n",
       "      <td>8.30</td>\n",
       "      <td>8.44</td>\n",
       "    </tr>\n",
       "    <tr>\n",
       "      <th>549160</th>\n",
       "      <td>22</td>\n",
       "      <td>1466967.87</td>\n",
       "      <td>174369.0</td>\n",
       "      <td>-0.20</td>\n",
       "      <td>-2.35</td>\n",
       "      <td>2020</td>\n",
       "      <td>3</td>\n",
       "      <td>8.48</td>\n",
       "      <td>8.30</td>\n",
       "    </tr>\n",
       "  </tbody>\n",
       "</table>\n",
       "</div>"
      ],
      "text/plain": [
       "        Company_Name  Value_Traded  Volume_Traded  Price_Change  %_Change  \\\n",
       "549156            22    2919780.78       329074.0          0.30      3.48   \n",
       "549157            22    5628851.72       649286.0          0.03      0.35   \n",
       "549158            22    2079110.00       242168.0          0.14      1.66   \n",
       "549159            22    1116460.13       132201.0          0.14      1.69   \n",
       "549160            22    1466967.87       174369.0         -0.20     -2.35   \n",
       "\n",
       "        Year  Month  Open  Close  \n",
       "549156  2020      3  8.69   8.91  \n",
       "549157  2020      3  8.69   8.61  \n",
       "549158  2020      3  8.48   8.58  \n",
       "549159  2020      3  8.30   8.44  \n",
       "549160  2020      3  8.48   8.30  "
      ]
     },
     "execution_count": 179,
     "metadata": {},
     "output_type": "execute_result"
    }
   ],
   "source": [
    "X.head()"
   ]
  },
  {
   "cell_type": "code",
   "execution_count": 180,
   "id": "cbe48fec",
   "metadata": {},
   "outputs": [
    {
     "data": {
      "text/plain": [
       "549156    405.0\n",
       "549157    320.0\n",
       "549158    241.0\n",
       "549159    217.0\n",
       "549160    365.0\n",
       "Name: No_of_Trades, dtype: float64"
      ]
     },
     "execution_count": 180,
     "metadata": {},
     "output_type": "execute_result"
    }
   ],
   "source": [
    "y.head()"
   ]
  },
  {
   "cell_type": "code",
   "execution_count": 181,
   "id": "699e0fac",
   "metadata": {},
   "outputs": [
    {
     "data": {
      "text/plain": [
       "array([22,  3, 13, 27,  0, 20, 19, 16,  1, 10,  7, 14, 23, 25, 18,  8,  4,\n",
       "       24, 26, 17,  6, 11, 21, 12,  9, 15,  2,  5])"
      ]
     },
     "execution_count": 181,
     "metadata": {},
     "output_type": "execute_result"
    }
   ],
   "source": [
    "X['Company_Name'].unique() # Show The unique values of Company name after the label encoding"
   ]
  },
  {
   "cell_type": "markdown",
   "id": "cf7a1bc2",
   "metadata": {},
   "source": [
    "### Linear Regression Model"
   ]
  },
  {
   "cell_type": "code",
   "execution_count": 182,
   "id": "aa8c671b",
   "metadata": {},
   "outputs": [
    {
     "data": {
      "text/plain": [
       "LinearRegression()"
      ]
     },
     "execution_count": 182,
     "metadata": {},
     "output_type": "execute_result"
    }
   ],
   "source": [
    "# Create a model object\n",
    "lr = LinearRegression()\n",
    "\n",
    "# Train the model\n",
    "lr.fit(X_train, y_train)"
   ]
  },
  {
   "cell_type": "code",
   "execution_count": 183,
   "id": "7f7dc991",
   "metadata": {},
   "outputs": [
    {
     "name": "stdout",
     "output_type": "stream",
     "text": [
      "The cross value is -314.23\n"
     ]
    }
   ],
   "source": [
    "# Score the Model using cross validation\n",
    "\n",
    "crossVal=cross_val_score(\n",
    "    lr, #model\n",
    "    X_train, \n",
    "    y_train, \n",
    "    cv=5, \n",
    "    scoring=\"neg_mean_absolute_error\" # scoring metric to use \n",
    ").mean()\n",
    "print(\"The cross value is %.2f\" % crossVal)"
   ]
  },
  {
   "cell_type": "code",
   "execution_count": 184,
   "id": "7c7b6b00",
   "metadata": {},
   "outputs": [],
   "source": [
    "# Predict on Test Data\n",
    "preds = lr.predict(X_test)"
   ]
  },
  {
   "cell_type": "code",
   "execution_count": 185,
   "id": "03a79706",
   "metadata": {},
   "outputs": [
    {
     "name": "stdout",
     "output_type": "stream",
     "text": [
      "The Linear Regression Score  81.9\n"
     ]
    }
   ],
   "source": [
    "# Calculate The Linear Regression Score\n",
    "lrScore=r2_score(y_true=y_test, y_pred=preds)\n",
    "\n",
    "# get the score percent\n",
    "lrPercent=(lrScore)*100\n",
    "\n",
    "# display result with 2 digits\n",
    "lrScore=float('{0:.2f}'.format(lrPercent))\n",
    "\n",
    "print('The Linear Regression Score ', lrScore)"
   ]
  },
  {
   "cell_type": "markdown",
   "id": "4e6a2b56",
   "metadata": {},
   "source": [
    "### Decision Tree Regression Model"
   ]
  },
  {
   "cell_type": "code",
   "execution_count": 186,
   "id": "84c3444b",
   "metadata": {},
   "outputs": [],
   "source": [
    "# Create a model object\n",
    "reg_tree = DecisionTreeRegressor(random_state = 0, max_depth= 4, criterion= 'mse')\n",
    "\n",
    "# Fit the model\n",
    "reg_tree.fit(X_train, y_train)\n",
    "\n",
    "# Predict on Test Data\n",
    "preds_tree = reg_tree.predict(X_test)"
   ]
  },
  {
   "cell_type": "code",
   "execution_count": 187,
   "id": "95523db1",
   "metadata": {},
   "outputs": [
    {
     "name": "stdout",
     "output_type": "stream",
     "text": [
      "The Decision tree Score  80.47\n"
     ]
    }
   ],
   "source": [
    "# Calculate The Decision tree Score\n",
    "RegTreeScore=r2_score(y_true=y_test, y_pred=preds_tree)\n",
    "\n",
    "# get the score percent\n",
    "RegTreePercent=(RegTreeScore)*100\n",
    "\n",
    "# display result with 2 digits\n",
    "RegTreeScore=float('{0:.2f}'.format(RegTreePercent))\n",
    "\n",
    "print('The Decision tree Score ',RegTreeScore)"
   ]
  },
  {
   "cell_type": "markdown",
   "id": "ee4c28b6",
   "metadata": {},
   "source": [
    "### Random Forest Regression Model"
   ]
  },
  {
   "cell_type": "code",
   "execution_count": 188,
   "id": "495c28a5",
   "metadata": {},
   "outputs": [],
   "source": [
    "# Create a model object\n",
    "reg_forest = RandomForestRegressor(n_estimators = 10, random_state = 0, criterion = 'mse')\n",
    "\n",
    "# Fit the model\n",
    "reg_forest.fit(X_train, y_train)\n",
    "\n",
    "# Predict on Test Data\n",
    "preds_forest = reg_forest.predict(X_test)"
   ]
  },
  {
   "cell_type": "code",
   "execution_count": 189,
   "id": "8370d287",
   "metadata": {},
   "outputs": [
    {
     "name": "stdout",
     "output_type": "stream",
     "text": [
      "The Random Forest Score  93.6\n"
     ]
    }
   ],
   "source": [
    "# Calculate The Random Forest Score\n",
    "RegForestScore=r2_score(y_true=y_test, y_pred=preds_forest)\n",
    "\n",
    "RegForestPercent=(RegForestScore)*100\n",
    "\n",
    "RegForestScore=float('{0:.2f}'.format(RegForestPercent))\n",
    "print('The Random Forest Score ', RegForestScore)"
   ]
  },
  {
   "cell_type": "markdown",
   "id": "bcd620b8",
   "metadata": {},
   "source": [
    "### Baseline VS Regresssion Models (Real Estate Sector)"
   ]
  },
  {
   "cell_type": "code",
   "execution_count": 50,
   "id": "a369b38c",
   "metadata": {},
   "outputs": [
    {
     "name": "stdout",
     "output_type": "stream",
     "text": [
      "Baseline\n",
      "MSE: 2892826\n",
      "MAE: 826\n",
      "RMSE: 1701\n",
      "\n",
      "Linear Regression\n",
      "MSE: 523710\n",
      "MAE: 312\n",
      "RMSE: 724\n",
      "\n",
      "Decision Tree  Regression\n",
      "MSE: 565009\n",
      "MAE: 275\n",
      "RMSE: 752\n",
      "\n",
      "Random Forest Tree  Regression\n",
      "MSE: 185249\n",
      "MAE: 146\n",
      "RMSE: 430\n"
     ]
    }
   ],
   "source": [
    "\n",
    "# Calculates the cost functions\n",
    "def calc_cost(y_true, y_predict):\n",
    "    \n",
    "    \"Calculate Cost Functions and print output\"\n",
    "    \n",
    "    result_dict = {}\n",
    "    \n",
    "    mse = mean_squared_error(y_true, y_predict)\n",
    "    mae = mean_absolute_error(y_true, y_predict)\n",
    "    rmse = mean_squared_error(y_true, y_predict, squared=False)\n",
    "    \n",
    "    # Round the numbers for readability --> decimal points are not important\n",
    "    ls = [round(mse), round(mae), round(rmse)]\n",
    "    ls2 = [\"MSE\", \"MAE\", \"RMSE\"]\n",
    "    \n",
    "    for x in range(len(ls)):\n",
    "        print(f\"{ls2[x]}: {ls[x]}\")\n",
    "        result_dict[ls2[x]] = ls[x]\n",
    "    \n",
    "    return result_dict\n",
    "\n",
    "# Save results to object and print results\n",
    "print(\"Baseline\")\n",
    "\n",
    "# The baseline model --> replace values by the mean and calculate the cost functions\n",
    "# Baseline is concerned with the average value\n",
    "b_preds = [y_test.mean() for x in range(len(y_test))]\n",
    "\n",
    "res0 = calc_cost(y_test, b_preds)\n",
    "\n",
    "print(\"\\nLinear Regression\")\n",
    "res1 = calc_cost(y_test, preds)\n",
    "print(\"\\nDecision Tree  Regression\")\n",
    "res2= calc_cost(y_test, preds_tree)\n",
    "print(\"\\nRandom Forest Tree  Regression\")\n",
    "res3=calc_cost(y_test, preds_forest)"
   ]
  },
  {
   "cell_type": "code",
   "execution_count": 51,
   "id": "67742fab",
   "metadata": {},
   "outputs": [
    {
     "name": "stdout",
     "output_type": "stream",
     "text": [
      "\n",
      "Baseline VS Linear Regression\n",
      "2369116\n",
      "\n",
      "Baseline VS Decision Tree Regression\n",
      "2327817\n",
      "\n",
      "Baseline VS Random Forest Regression\n",
      "2707577\n"
     ]
    }
   ],
   "source": [
    "# Comparing baseline vs. our prediction models\n",
    "print(\"\\nBaseline VS Linear Regression\")\n",
    "b1=res0['MSE']-res1['MSE']\n",
    "print(b1)\n",
    "\n",
    "print(\"\\nBaseline VS Decision Tree Regression\")\n",
    "b2=res0['MSE']-res2['MSE']\n",
    "print(b2)\n",
    "\n",
    "print(\"\\nBaseline VS Random Forest Regression\")\n",
    "b3=res0['MSE']-res3['MSE']\n",
    "print(b3)"
   ]
  },
  {
   "cell_type": "markdown",
   "id": "d3e49624",
   "metadata": {},
   "source": [
    "**Since the value is positive --> the regression models is better than the Baseline model**"
   ]
  },
  {
   "cell_type": "markdown",
   "id": "dd5cdab2",
   "metadata": {},
   "source": [
    "## Energy Sector "
   ]
  },
  {
   "cell_type": "code",
   "execution_count": 150,
   "id": "34fa37e8",
   "metadata": {},
   "outputs": [
    {
     "data": {
      "text/html": [
       "<div>\n",
       "<style scoped>\n",
       "    .dataframe tbody tr th:only-of-type {\n",
       "        vertical-align: middle;\n",
       "    }\n",
       "\n",
       "    .dataframe tbody tr th {\n",
       "        vertical-align: top;\n",
       "    }\n",
       "\n",
       "    .dataframe thead th {\n",
       "        text-align: right;\n",
       "    }\n",
       "</style>\n",
       "<table border=\"1\" class=\"dataframe\">\n",
       "  <thead>\n",
       "    <tr style=\"text-align: right;\">\n",
       "      <th></th>\n",
       "      <th>Company_Name</th>\n",
       "      <th>Sector</th>\n",
       "      <th>Date</th>\n",
       "      <th>Open</th>\n",
       "      <th>High</th>\n",
       "      <th>Low</th>\n",
       "      <th>Close</th>\n",
       "      <th>Price_Change</th>\n",
       "      <th>%_Change</th>\n",
       "      <th>Volume_Traded</th>\n",
       "      <th>Value_Traded</th>\n",
       "      <th>No_of_Trades</th>\n",
       "      <th>Year</th>\n",
       "      <th>Month</th>\n",
       "    </tr>\n",
       "  </thead>\n",
       "  <tbody>\n",
       "    <tr>\n",
       "      <th>0</th>\n",
       "      <td>SARCO</td>\n",
       "      <td>Energy</td>\n",
       "      <td>2020-03-05</td>\n",
       "      <td>35.55</td>\n",
       "      <td>35.85</td>\n",
       "      <td>34.90</td>\n",
       "      <td>34.90</td>\n",
       "      <td>-0.40</td>\n",
       "      <td>-1.13</td>\n",
       "      <td>436609.0</td>\n",
       "      <td>15399073.50</td>\n",
       "      <td>804.0</td>\n",
       "      <td>2020</td>\n",
       "      <td>3</td>\n",
       "    </tr>\n",
       "    <tr>\n",
       "      <th>1</th>\n",
       "      <td>SARCO</td>\n",
       "      <td>Energy</td>\n",
       "      <td>2020-03-04</td>\n",
       "      <td>34.70</td>\n",
       "      <td>35.65</td>\n",
       "      <td>34.50</td>\n",
       "      <td>35.30</td>\n",
       "      <td>0.25</td>\n",
       "      <td>0.71</td>\n",
       "      <td>737624.0</td>\n",
       "      <td>25981391.35</td>\n",
       "      <td>1268.0</td>\n",
       "      <td>2020</td>\n",
       "      <td>3</td>\n",
       "    </tr>\n",
       "    <tr>\n",
       "      <th>2</th>\n",
       "      <td>SARCO</td>\n",
       "      <td>Energy</td>\n",
       "      <td>2020-03-03</td>\n",
       "      <td>34.70</td>\n",
       "      <td>35.15</td>\n",
       "      <td>34.70</td>\n",
       "      <td>35.05</td>\n",
       "      <td>1.05</td>\n",
       "      <td>3.09</td>\n",
       "      <td>489831.0</td>\n",
       "      <td>17116413.40</td>\n",
       "      <td>854.0</td>\n",
       "      <td>2020</td>\n",
       "      <td>3</td>\n",
       "    </tr>\n",
       "    <tr>\n",
       "      <th>3</th>\n",
       "      <td>SARCO</td>\n",
       "      <td>Energy</td>\n",
       "      <td>2020-03-02</td>\n",
       "      <td>35.20</td>\n",
       "      <td>35.65</td>\n",
       "      <td>34.00</td>\n",
       "      <td>34.00</td>\n",
       "      <td>-0.55</td>\n",
       "      <td>-1.59</td>\n",
       "      <td>736157.0</td>\n",
       "      <td>25858700.60</td>\n",
       "      <td>1242.0</td>\n",
       "      <td>2020</td>\n",
       "      <td>3</td>\n",
       "    </tr>\n",
       "    <tr>\n",
       "      <th>4</th>\n",
       "      <td>SARCO</td>\n",
       "      <td>Energy</td>\n",
       "      <td>2020-03-01</td>\n",
       "      <td>35.35</td>\n",
       "      <td>35.60</td>\n",
       "      <td>34.25</td>\n",
       "      <td>34.55</td>\n",
       "      <td>-2.05</td>\n",
       "      <td>-5.60</td>\n",
       "      <td>738685.0</td>\n",
       "      <td>25747967.55</td>\n",
       "      <td>1625.0</td>\n",
       "      <td>2020</td>\n",
       "      <td>3</td>\n",
       "    </tr>\n",
       "  </tbody>\n",
       "</table>\n",
       "</div>"
      ],
      "text/plain": [
       "  Company_Name  Sector        Date   Open   High    Low  Close  Price_Change  \\\n",
       "0        SARCO  Energy  2020-03-05  35.55  35.85  34.90  34.90         -0.40   \n",
       "1        SARCO  Energy  2020-03-04  34.70  35.65  34.50  35.30          0.25   \n",
       "2        SARCO  Energy  2020-03-03  34.70  35.15  34.70  35.05          1.05   \n",
       "3        SARCO  Energy  2020-03-02  35.20  35.65  34.00  34.00         -0.55   \n",
       "4        SARCO  Energy  2020-03-01  35.35  35.60  34.25  34.55         -2.05   \n",
       "\n",
       "   %_Change  Volume_Traded  Value_Traded  No_of_Trades  Year  Month  \n",
       "0     -1.13       436609.0   15399073.50         804.0  2020      3  \n",
       "1      0.71       737624.0   25981391.35        1268.0  2020      3  \n",
       "2      3.09       489831.0   17116413.40         854.0  2020      3  \n",
       "3     -1.59       736157.0   25858700.60        1242.0  2020      3  \n",
       "4     -5.60       738685.0   25747967.55        1625.0  2020      3  "
      ]
     },
     "execution_count": 150,
     "metadata": {},
     "output_type": "execute_result"
    }
   ],
   "source": [
    "# Disply first five rows of data\n",
    "Energy_df.head(5)"
   ]
  },
  {
   "cell_type": "code",
   "execution_count": 151,
   "id": "a7666fe0",
   "metadata": {},
   "outputs": [],
   "source": [
    "# Create my X, y data\n",
    "\n",
    "target = 'No_of_Trades' # Target Varible\n",
    "features = ['Company_Name','Value_Traded','Volume_Traded','Price_Change','%_Change','Year','Month','Open','Close']\n",
    "\n",
    "\n",
    "X_E = Energy_df[features]\n",
    "y_E = Energy_df[target]\n"
   ]
  },
  {
   "cell_type": "code",
   "execution_count": 152,
   "id": "ea42ffa6",
   "metadata": {},
   "outputs": [],
   "source": [
    "# Label Encoding the \"Company Name\" column\n",
    "\n",
    "le_E = LabelEncoder()\n",
    "\n",
    "X_E.iloc[:,0] = le.fit_transform(X_E.iloc[:,0])"
   ]
  },
  {
   "cell_type": "code",
   "execution_count": 153,
   "id": "4e3cd8c4",
   "metadata": {},
   "outputs": [],
   "source": [
    "# Train Test Split\n",
    "X_train_E, X_test_E, y_train_E, y_test_E = train_test_split(X_E, y_E, train_size=0.75, random_state=2)"
   ]
  },
  {
   "cell_type": "code",
   "execution_count": 154,
   "id": "f57972ee",
   "metadata": {},
   "outputs": [
    {
     "data": {
      "text/html": [
       "<div>\n",
       "<style scoped>\n",
       "    .dataframe tbody tr th:only-of-type {\n",
       "        vertical-align: middle;\n",
       "    }\n",
       "\n",
       "    .dataframe tbody tr th {\n",
       "        vertical-align: top;\n",
       "    }\n",
       "\n",
       "    .dataframe thead th {\n",
       "        text-align: right;\n",
       "    }\n",
       "</style>\n",
       "<table border=\"1\" class=\"dataframe\">\n",
       "  <thead>\n",
       "    <tr style=\"text-align: right;\">\n",
       "      <th></th>\n",
       "      <th>Company_Name</th>\n",
       "      <th>Value_Traded</th>\n",
       "      <th>Volume_Traded</th>\n",
       "      <th>Price_Change</th>\n",
       "      <th>%_Change</th>\n",
       "      <th>Year</th>\n",
       "      <th>Month</th>\n",
       "      <th>Open</th>\n",
       "      <th>Close</th>\n",
       "    </tr>\n",
       "  </thead>\n",
       "  <tbody>\n",
       "    <tr>\n",
       "      <th>0</th>\n",
       "      <td>3</td>\n",
       "      <td>15399073.50</td>\n",
       "      <td>436609.0</td>\n",
       "      <td>-0.40</td>\n",
       "      <td>-1.13</td>\n",
       "      <td>2020</td>\n",
       "      <td>3</td>\n",
       "      <td>35.55</td>\n",
       "      <td>34.90</td>\n",
       "    </tr>\n",
       "    <tr>\n",
       "      <th>1</th>\n",
       "      <td>3</td>\n",
       "      <td>25981391.35</td>\n",
       "      <td>737624.0</td>\n",
       "      <td>0.25</td>\n",
       "      <td>0.71</td>\n",
       "      <td>2020</td>\n",
       "      <td>3</td>\n",
       "      <td>34.70</td>\n",
       "      <td>35.30</td>\n",
       "    </tr>\n",
       "    <tr>\n",
       "      <th>2</th>\n",
       "      <td>3</td>\n",
       "      <td>17116413.40</td>\n",
       "      <td>489831.0</td>\n",
       "      <td>1.05</td>\n",
       "      <td>3.09</td>\n",
       "      <td>2020</td>\n",
       "      <td>3</td>\n",
       "      <td>34.70</td>\n",
       "      <td>35.05</td>\n",
       "    </tr>\n",
       "    <tr>\n",
       "      <th>3</th>\n",
       "      <td>3</td>\n",
       "      <td>25858700.60</td>\n",
       "      <td>736157.0</td>\n",
       "      <td>-0.55</td>\n",
       "      <td>-1.59</td>\n",
       "      <td>2020</td>\n",
       "      <td>3</td>\n",
       "      <td>35.20</td>\n",
       "      <td>34.00</td>\n",
       "    </tr>\n",
       "    <tr>\n",
       "      <th>4</th>\n",
       "      <td>3</td>\n",
       "      <td>25747967.55</td>\n",
       "      <td>738685.0</td>\n",
       "      <td>-2.05</td>\n",
       "      <td>-5.60</td>\n",
       "      <td>2020</td>\n",
       "      <td>3</td>\n",
       "      <td>35.35</td>\n",
       "      <td>34.55</td>\n",
       "    </tr>\n",
       "  </tbody>\n",
       "</table>\n",
       "</div>"
      ],
      "text/plain": [
       "   Company_Name  Value_Traded  Volume_Traded  Price_Change  %_Change  Year  \\\n",
       "0             3   15399073.50       436609.0         -0.40     -1.13  2020   \n",
       "1             3   25981391.35       737624.0          0.25      0.71  2020   \n",
       "2             3   17116413.40       489831.0          1.05      3.09  2020   \n",
       "3             3   25858700.60       736157.0         -0.55     -1.59  2020   \n",
       "4             3   25747967.55       738685.0         -2.05     -5.60  2020   \n",
       "\n",
       "   Month   Open  Close  \n",
       "0      3  35.55  34.90  \n",
       "1      3  34.70  35.30  \n",
       "2      3  34.70  35.05  \n",
       "3      3  35.20  34.00  \n",
       "4      3  35.35  34.55  "
      ]
     },
     "execution_count": 154,
     "metadata": {},
     "output_type": "execute_result"
    }
   ],
   "source": [
    "X_E.head()"
   ]
  },
  {
   "cell_type": "code",
   "execution_count": 155,
   "id": "693b75ab",
   "metadata": {},
   "outputs": [
    {
     "data": {
      "text/plain": [
       "0     804.0\n",
       "1    1268.0\n",
       "2     854.0\n",
       "3    1242.0\n",
       "4    1625.0\n",
       "Name: No_of_Trades, dtype: float64"
      ]
     },
     "execution_count": 155,
     "metadata": {},
     "output_type": "execute_result"
    }
   ],
   "source": [
    "y_E.head()"
   ]
  },
  {
   "cell_type": "code",
   "execution_count": 156,
   "id": "b34e1cb6",
   "metadata": {},
   "outputs": [
    {
     "data": {
      "text/plain": [
       "array([3, 4, 2, 1, 0])"
      ]
     },
     "execution_count": 156,
     "metadata": {},
     "output_type": "execute_result"
    }
   ],
   "source": [
    "X_E['Company_Name'].unique() # Show The unique values of Company name after the label encoding"
   ]
  },
  {
   "cell_type": "markdown",
   "id": "49a23710",
   "metadata": {},
   "source": [
    "### Linear Regression Model"
   ]
  },
  {
   "cell_type": "code",
   "execution_count": 157,
   "id": "f3c5ca49",
   "metadata": {},
   "outputs": [
    {
     "data": {
      "text/plain": [
       "LinearRegression()"
      ]
     },
     "execution_count": 157,
     "metadata": {},
     "output_type": "execute_result"
    }
   ],
   "source": [
    "# Create a model object\n",
    "lr_E = LinearRegression()\n",
    "\n",
    "# Fit the model\n",
    "lr_E.fit(X_train_E, y_train_E)"
   ]
  },
  {
   "cell_type": "code",
   "execution_count": 158,
   "id": "376613d7",
   "metadata": {},
   "outputs": [
    {
     "name": "stdout",
     "output_type": "stream",
     "text": [
      "The cross value is -332.66\n"
     ]
    }
   ],
   "source": [
    "# Score the Model using cross validation\n",
    "\n",
    "crossVal=cross_val_score(\n",
    "    lr_E, #model\n",
    "    X_train_E, \n",
    "    y_train_E, \n",
    "    cv=5, \n",
    "    scoring=\"neg_mean_absolute_error\" # scoring metric to use \n",
    ").mean()\n",
    "print(\"The cross value is %.2f\" % crossVal)"
   ]
  },
  {
   "cell_type": "code",
   "execution_count": 159,
   "id": "17e9768a",
   "metadata": {},
   "outputs": [],
   "source": [
    "# Predict on Test Data\n",
    "preds_E = lr_E.predict(X_test_E)"
   ]
  },
  {
   "cell_type": "code",
   "execution_count": 160,
   "id": "747851cb",
   "metadata": {},
   "outputs": [
    {
     "name": "stdout",
     "output_type": "stream",
     "text": [
      "The Linear Regression Score 75.96\n"
     ]
    }
   ],
   "source": [
    "# Calculate The Linear Regression Score\n",
    "lrScore_E=r2_score(y_true=y_test_E, y_pred=preds_E)\n",
    "\n",
    "# get the score percent\n",
    "lrPercent_E=(lrScore_E)*100\n",
    "\n",
    "# display result with 2 digits\n",
    "lrScore_E=float('{0:.2f}'.format(lrPercent_E))\n",
    "\n",
    "print('The Linear Regression Score',lrScore_E)"
   ]
  },
  {
   "cell_type": "markdown",
   "id": "e6efbb89",
   "metadata": {},
   "source": [
    "### Decision Tree Regression Model"
   ]
  },
  {
   "cell_type": "code",
   "execution_count": 161,
   "id": "76af88d0",
   "metadata": {},
   "outputs": [],
   "source": [
    "# Create a model object\n",
    "reg_tree_E = DecisionTreeRegressor(random_state = 0, max_depth= 4, criterion= 'mse')\n",
    "\n",
    "# Fit the model\n",
    "reg_tree_E.fit(X_train_E, y_train_E)\n",
    "\n",
    "# Predict on Test Data\n",
    "preds_tree_E = reg_tree_E.predict(X_test_E)"
   ]
  },
  {
   "cell_type": "code",
   "execution_count": 162,
   "id": "42462dee",
   "metadata": {},
   "outputs": [
    {
     "name": "stdout",
     "output_type": "stream",
     "text": [
      "The Decision tree Score 88.66\n"
     ]
    }
   ],
   "source": [
    "# Calculate The Decision tree Score\n",
    "RegTreeScore_E=r2_score(y_true=y_test_E, y_pred=preds_tree_E)\n",
    "\n",
    "#get the score percent\n",
    "RegTreePercent_E=(RegTreeScore_E)*100\n",
    "\n",
    "# display result with 2 digits\n",
    "RegTreeScore_E=float('{0:.2f}'.format(RegTreePercent_E))\n",
    "\n",
    "print('The Decision tree Score',RegTreeScore_E)"
   ]
  },
  {
   "cell_type": "markdown",
   "id": "c38805aa",
   "metadata": {},
   "source": [
    "### Random Forest Regression Model"
   ]
  },
  {
   "cell_type": "code",
   "execution_count": 163,
   "id": "fddf288c",
   "metadata": {},
   "outputs": [],
   "source": [
    "# Create a model object\n",
    "reg_forest_E = RandomForestRegressor(n_estimators = 10, random_state = 0, criterion = 'mse')\n",
    "\n",
    "# Fit the model\n",
    "reg_forest_E.fit(X_train_E, y_train_E)\n",
    "\n",
    "# Predict on Test Data\n",
    "preds_forest_E = reg_forest_E.predict(X_test_E)"
   ]
  },
  {
   "cell_type": "code",
   "execution_count": 164,
   "id": "eae63f88",
   "metadata": {},
   "outputs": [
    {
     "name": "stdout",
     "output_type": "stream",
     "text": [
      "The Random Forest Score 94.74\n"
     ]
    }
   ],
   "source": [
    "# Calculate The Random Forest Score\n",
    "RegForestScore_E=r2_score(y_true=y_test_E, y_pred=preds_forest_E)\n",
    "    #get the score percent\n",
    "RegForestPercent_E=(RegForestScore_E)*100\n",
    "    # display result with 2 digits\n",
    "    \n",
    "RegForestScore_E=float('{0:.2f}'.format(RegForestPercent_E))\n",
    "print('The Random Forest Score',RegForestScore_E)"
   ]
  },
  {
   "cell_type": "markdown",
   "id": "e29cc79d",
   "metadata": {},
   "source": [
    "### Baseline VS Regresssion Models (Energy Sector)"
   ]
  },
  {
   "cell_type": "code",
   "execution_count": 66,
   "id": "4633a442",
   "metadata": {},
   "outputs": [
    {
     "name": "stdout",
     "output_type": "stream",
     "text": [
      "Baseline\n",
      "MSE: 3473576\n",
      "MAE: 688\n",
      "RMSE: 1864\n",
      "\n",
      "Linear Regression\n",
      "MSE: 835074\n",
      "MAE: 339\n",
      "RMSE: 914\n",
      "\n",
      "Decision Tree  Regression\n",
      "MSE: 393990\n",
      "MAE: 315\n",
      "RMSE: 628\n",
      "\n",
      "Random Forest Tree  Regression\n",
      "MSE: 182848\n",
      "MAE: 153\n",
      "RMSE: 428\n"
     ]
    }
   ],
   "source": [
    "\n",
    "# Calculates the cost functions\n",
    "def calc_cost(y_true, y_predict):\n",
    "    \n",
    "    \"Calculate Cost Functions and print output\"\n",
    "    \n",
    "    result_dict = {}\n",
    "    \n",
    "    mse = mean_squared_error(y_true, y_predict)\n",
    "    mae = mean_absolute_error(y_true, y_predict)\n",
    "    rmse = mean_squared_error(y_true, y_predict, squared=False)\n",
    "    \n",
    "    # Round the numbers for readability --> decimal points are not important\n",
    "    ls = [round(mse), round(mae), round(rmse)]\n",
    "    ls2 = [\"MSE\", \"MAE\", \"RMSE\"]\n",
    "    \n",
    "    for x in range(len(ls)):\n",
    "        print(f\"{ls2[x]}: {ls[x]}\")\n",
    "        result_dict[ls2[x]] = ls[x]\n",
    "    \n",
    "    return result_dict\n",
    "\n",
    "# Save results to object and print results\n",
    "print(\"Baseline\")\n",
    "\n",
    "# The baseline model --> replace values by the mean and calculate the cost functions\n",
    "# Baseline is concerned with the average value\n",
    "b_preds = [y_test_E.mean() for x in range(len(y_test_E))]\n",
    "\n",
    "res0 = calc_cost(y_test_E, b_preds)\n",
    "\n",
    "print(\"\\nLinear Regression\")\n",
    "res1 = calc_cost(y_test_E, preds_E)\n",
    "print(\"\\nDecision Tree  Regression\")\n",
    "res2= calc_cost(y_test_E,  preds_tree_E)\n",
    "print(\"\\nRandom Forest Tree  Regression\")\n",
    "res3=calc_cost(y_test_E,  preds_forest_E)"
   ]
  },
  {
   "cell_type": "code",
   "execution_count": 67,
   "id": "01715941",
   "metadata": {},
   "outputs": [
    {
     "name": "stdout",
     "output_type": "stream",
     "text": [
      "\n",
      "Baseline VS Linear Regression\n",
      "2638502\n",
      "\n",
      "Baseline VS Decision Tree Regression\n",
      "3079586\n",
      "\n",
      "Baseline VS Random Forest Regression\n",
      "3290728\n"
     ]
    }
   ],
   "source": [
    "print(\"\\nBaseline VS Linear Regression\")\n",
    "b1=res0['MSE']-res1['MSE']\n",
    "print(b1)\n",
    "\n",
    "print(\"\\nBaseline VS Decision Tree Regression\")\n",
    "b2=res0['MSE']-res2['MSE']\n",
    "print(b2)\n",
    "\n",
    "print(\"\\nBaseline VS Random Forest Regression\")\n",
    "b3=res0['MSE']-res3['MSE']\n",
    "print(b3)"
   ]
  },
  {
   "cell_type": "markdown",
   "id": "9a32b788",
   "metadata": {},
   "source": [
    "**Since the value is positive --> the regression models is better than the Baseline model**"
   ]
  },
  {
   "cell_type": "markdown",
   "id": "9d0c4eb4",
   "metadata": {},
   "source": [
    "## Real Estate Sector Accuracy Plot "
   ]
  },
  {
   "cell_type": "code",
   "execution_count": 168,
   "id": "adb6bdef",
   "metadata": {},
   "outputs": [
    {
     "data": {
      "image/png": "[encoded data removed]",
      "text/plain": [
       "<Figure size 720x360 with 1 Axes>"
      ]
     },
     "metadata": {
      "needs_background": "light"
     },
     "output_type": "display_data"
    }
   ],
   "source": [
    "\n",
    "# function to add value labels\n",
    "def sector_accuracy(x,y):\n",
    "    for i in range(len(x)):\n",
    "        plt.text(i, y[i], y[i], ha = 'center')\n",
    "\n",
    "if __name__ == '__main__':\n",
    "\n",
    "    # creating data on which bar chart will be plot\n",
    "    x = ['Decision Tree Regression','Linear Regression','Random Forest Regression']\n",
    "    y=[RegTreeScore,lrScore,RegForestScore]\n",
    "    \n",
    "    # setting figure size by using figure() function\n",
    "    plt.figure(figsize = (10, 5))\n",
    "    \n",
    "    # making the bar chart on the data\n",
    "    sns.barplot(x,y, palette = 'Purples')\n",
    "    \n",
    "    # calling the function to add value labels\n",
    "    sector_accuracy(x, y)\n",
    "    \n",
    "    # giving title to the plot\n",
    "    plt.title(\"Real Estate Sector Accuracy Plot\",fontsize=20)\n",
    "    \n",
    "    # giving X and Y labels\n",
    "    plt.xlabel(\" Models \",fontsize=16)\n",
    "    plt.ylabel(\"Accuracy\", fontsize=16)\n",
    "    \n",
    "    # visualizing the plot\n",
    "    plt.show()\n",
    "\n"
   ]
  },
  {
   "cell_type": "markdown",
   "id": "9ca28ac7",
   "metadata": {},
   "source": [
    "## Energy Sector Accuracy Plot"
   ]
  },
  {
   "cell_type": "code",
   "execution_count": 169,
   "id": "782a465b",
   "metadata": {},
   "outputs": [
    {
     "data": {
      "image/png": "[encoded data removed]",
      "text/plain": [
       "<Figure size 720x360 with 1 Axes>"
      ]
     },
     "metadata": {
      "needs_background": "light"
     },
     "output_type": "display_data"
    }
   ],
   "source": [
    "# function to add value labels\n",
    "def sector_accuracy(x,y):\n",
    "    for i in range(len(x)):\n",
    "        plt.text(i, y[i], y[i], ha = 'center')\n",
    "\n",
    "if __name__ == '__main__':\n",
    "\n",
    "    # creating data on which bar chart will be plot\n",
    "    x = ['Linear Regression','Decision Tree Regression','Random Forest Regression']\n",
    "    y=[lrScore_E,RegTreeScore_E,RegForestScore_E]\n",
    "    \n",
    "    # setting figure size by using figure() function\n",
    "    plt.figure(figsize = (10, 5))\n",
    "    \n",
    "    # making the bar chart on the data\n",
    "    sns.barplot(x,y, palette = 'Purples')\n",
    "    \n",
    "    # calling the function to add value labels\n",
    "    sector_accuracy(x, y)\n",
    "    \n",
    "    # giving title to the plot\n",
    "    plt.title(\"Energy Sector Accuracy Plot\",fontsize=20)\n",
    "    \n",
    "    # giving X and Y labels\n",
    "    plt.xlabel(\" Models \",fontsize=16)\n",
    "    plt.ylabel(\"Accuracy\", fontsize=16)\n",
    "    \n",
    "    # visualizing the plot\n",
    "    plt.show()\n"
   ]
  },
  {
   "cell_type": "markdown",
   "id": "cd34109f",
   "metadata": {},
   "source": [
    " ## Model Optimization - Hyperparameter Tuning (Grid Search)"
   ]
  },
  {
   "cell_type": "markdown",
   "id": "cadfb06d",
   "metadata": {},
   "source": [
    "### Real Estate Sector"
   ]
  },
  {
   "cell_type": "code",
   "execution_count": 133,
   "id": "aa5b45ef",
   "metadata": {},
   "outputs": [
    {
     "name": "stdout",
     "output_type": "stream",
     "text": [
      "Fitting 5 folds for each of 4 candidates, totalling 20 fits\n"
     ]
    },
    {
     "data": {
      "text/plain": [
       "GridSearchCV(cv=5,\n",
       "             estimator=RandomForestRegressor(criterion='mse', n_estimators=10,\n",
       "                                             random_state=0),\n",
       "             n_jobs=-1,\n",
       "             param_grid={'max_depth': (0, 100), 'n_estimators': (50, 100)},\n",
       "             verbose=1)"
      ]
     },
     "execution_count": 133,
     "metadata": {},
     "output_type": "execute_result"
    }
   ],
   "source": [
    "\n",
    "param_grid = {\n",
    "    \"n_estimators\": (50,100), # how many trees in our forest\n",
    "    \"max_depth\": (0,100) # how deep each decision tree can be\n",
    "    \n",
    "}\n",
    "\n",
    "grid = GridSearchCV(\n",
    "    reg_forest,\n",
    "    param_grid,\n",
    "    cv = 5,\n",
    "    n_jobs=-1,\n",
    "    verbose=1\n",
    ")\n",
    "\n",
    "grid.fit(X_train, y_train)"
   ]
  },
  {
   "cell_type": "code",
   "execution_count": 134,
   "id": "e5c367d7",
   "metadata": {},
   "outputs": [
    {
     "name": "stdout",
     "output_type": "stream",
     "text": [
      "Real Estate Sector - Model Performance\n",
      "Accuracy Before = 93.60%.\n",
      "Accuracy After = 94.46%.\n",
      "Improvement of 0.93%.\n"
     ]
    }
   ],
   "source": [
    "# Model optimization evaluation \n",
    "print('Real Estate Sector - Model Performance')\n",
    "\n",
    "# accurate model accuracy \n",
    "base_accuracy=r2_score(y_true=y_test, y_pred=preds_forest)\n",
    "print('Accuracy Before = {:0.2f}%.'.format(100 *base_accuracy))\n",
    "\n",
    "# improved accuracy\n",
    "RegForestScore=grid.score(X_test, y_test)\n",
    "print('Accuracy After = {:0.2f}%.'.format(100 *RegForestScore))\n",
    "\n",
    "#percent of model improvement\n",
    "print('Improvement of {:0.2f}%.'.format( 100 * (RegForestScore - base_accuracy) / base_accuracy))\n"
   ]
  },
  {
   "cell_type": "code",
   "execution_count": 72,
   "id": "3f520569",
   "metadata": {},
   "outputs": [
    {
     "name": "stdout",
     "output_type": "stream",
     "text": [
      " Results from Grid Search \n",
      "\n",
      " The best estimator across ALL searched params:\n",
      " RandomForestRegressor(criterion='mse', max_depth=100, n_estimators=50,\n",
      "                      random_state=0)\n",
      "\n",
      " The best score across ALL searched test set:\n",
      " 0.9446395958968512\n",
      "\n",
      " The best score across ALL searched params:\n",
      " 0.8000896779473614\n",
      "\n",
      " The best parameters across ALL searched params:\n",
      " {'max_depth': 100, 'n_estimators': 50}\n"
     ]
    }
   ],
   "source": [
    "print(\" Results from Grid Search \" )\n",
    "print(\"\\n The best estimator across ALL searched params:\\n\",grid.best_estimator_)\n",
    "print(\"\\n The best score across ALL searched test set:\\n\",grid.score(X_test, y_test))\n",
    "print(\"\\n The best score across ALL searched params:\\n\",grid.best_score_)\n",
    "print(\"\\n The best parameters across ALL searched params:\\n\",grid.best_params_)"
   ]
  },
  {
   "cell_type": "markdown",
   "id": "506332fe",
   "metadata": {},
   "source": [
    "### Energy Sector "
   ]
  },
  {
   "cell_type": "code",
   "execution_count": 124,
   "id": "8c2305f6",
   "metadata": {},
   "outputs": [
    {
     "name": "stdout",
     "output_type": "stream",
     "text": [
      "Fitting 5 folds for each of 4 candidates, totalling 20 fits\n"
     ]
    },
    {
     "data": {
      "text/plain": [
       "GridSearchCV(cv=5,\n",
       "             estimator=RandomForestRegressor(criterion='mse', n_estimators=10,\n",
       "                                             random_state=0),\n",
       "             n_jobs=-1,\n",
       "             param_grid={'max_depth': (0, 100), 'n_estimators': (50, 100)},\n",
       "             verbose=1)"
      ]
     },
     "execution_count": 124,
     "metadata": {},
     "output_type": "execute_result"
    }
   ],
   "source": [
    "\n",
    "param_grid = {\n",
    "    \"n_estimators\": (50,100), # how many trees in our forest\n",
    "    \"max_depth\": (0,100) # how deep each decision tree can be\n",
    "    \n",
    "}\n",
    "\n",
    "grid = GridSearchCV(\n",
    "    reg_forest_E,\n",
    "    param_grid,\n",
    "    cv = 5,\n",
    "    n_jobs=-1,\n",
    "    verbose=1\n",
    ")\n",
    "\n",
    "grid.fit(X_train_E, y_train_E)"
   ]
  },
  {
   "cell_type": "code",
   "execution_count": 127,
   "id": "fdab7892",
   "metadata": {},
   "outputs": [
    {
     "name": "stdout",
     "output_type": "stream",
     "text": [
      "Energy Sector - Model Performance\n",
      "Accuracy Before = 94.74%.\n",
      "Accuracy After = 95.15%.\n",
      "Improvement of 0.43%.\n"
     ]
    }
   ],
   "source": [
    "# Model optimization evaluation \n",
    "print('Energy Sector - Model Performance')\n",
    "\n",
    "# accurate model accuracy \n",
    "base_accuracy_E=r2_score(y_true=y_test_E, y_pred=preds_forest_E)\n",
    "print('Accuracy Before = {:0.2f}%.'.format(100 *base_accuracy_E))\n",
    "\n",
    "# improved accuracy\n",
    "RegForestScore_E=grid.score(X_test_E, y_test_E)\n",
    "print('Accuracy After = {:0.2f}%.'.format(100 *RegForestScore_E))\n",
    "\n",
    "#percent of model improvement\n",
    "print('Improvement of {:0.2f}%.'.format( 100 * (RegForestScore_E - base_accuracy_E) / base_accuracy_E))\n"
   ]
  },
  {
   "cell_type": "code",
   "execution_count": 75,
   "id": "b4b96e44",
   "metadata": {},
   "outputs": [
    {
     "name": "stdout",
     "output_type": "stream",
     "text": [
      " Results from Grid Search \n",
      "\n",
      " The best estimator across ALL searched params:\n",
      " RandomForestRegressor(criterion='mse', max_depth=100, random_state=0)\n",
      "\n",
      " The best score across ALL searched test set:\n",
      " 0.9514559874628452\n",
      "\n",
      " The best score across ALL searched params:\n",
      " 0.8594606213764688\n",
      "\n",
      " The best parameters across ALL searched params:\n",
      " {'max_depth': 100, 'n_estimators': 100}\n"
     ]
    }
   ],
   "source": [
    "print(\" Results from Grid Search \" )\n",
    "print(\"\\n The best estimator across ALL searched params:\\n\",grid.best_estimator_)\n",
    "print(\"\\n The best score across ALL searched test set:\\n\",grid.score(X_test_E, y_test_E))\n",
    "print(\"\\n The best score across ALL searched params:\\n\",grid.best_score_)\n",
    "print(\"\\n The best parameters across ALL searched params:\\n\",grid.best_params_)"
   ]
  },
  {
   "cell_type": "markdown",
   "id": "4bc341a9",
   "metadata": {},
   "source": [
    "# ML Pipeline for Best Model"
   ]
  },
  {
   "cell_type": "markdown",
   "id": "b775fe79",
   "metadata": {},
   "source": [
    "## Real Estate Sector"
   ]
  },
  {
   "cell_type": "code",
   "execution_count": 170,
   "id": "8145c413",
   "metadata": {},
   "outputs": [
    {
     "data": {
      "text/plain": [
       "Index(['Company_Name', 'Value_Traded', 'Volume_Traded', 'Price_Change',\n",
       "       '%_Change', 'Year', 'Month', 'Open', 'Close'],\n",
       "      dtype='object')"
      ]
     },
     "execution_count": 170,
     "metadata": {},
     "output_type": "execute_result"
    }
   ],
   "source": [
    "# return only numeric columns names\n",
    "\n",
    "numeric_features = X_train.describe().columns \n",
    "\n",
    "numeric_features"
   ]
  },
  {
   "cell_type": "code",
   "execution_count": 199,
   "id": "38d39cc7",
   "metadata": {},
   "outputs": [
    {
     "name": "stdout",
     "output_type": "stream",
     "text": [
      "Model Score : 93.52\n"
     ]
    }
   ],
   "source": [
    "# Create a transformer for numeric columns\n",
    "\n",
    "numeric_transformer = Pipeline(\n",
    "    steps=[\n",
    "        \n",
    "        ('imputer', SimpleImputer()),\n",
    "        ('scaler', StandardScaler())\n",
    "    ]\n",
    ")\n",
    "\n",
    "# Create a preprocessor transformer\n",
    "preprocessor = ColumnTransformer(\n",
    "    transformers=[\n",
    "        ('num', numeric_transformer, numeric_features)\n",
    "        \n",
    "    ]\n",
    ")\n",
    "\n",
    "# Append classifier to preprocessing pipeline.\n",
    "# Now we have a full prediction pipeline.\n",
    "clf = Pipeline(\n",
    "    steps=[\n",
    "        ('preprocessor', preprocessor),\n",
    "        ('classifier',RandomForestRegressor(n_estimators = 10, random_state = 0, criterion = 'mse'))\n",
    "    ]\n",
    ")\n",
    "\n",
    "clf.fit(X_train, y_train)\n",
    " # Find out the pipline score\n",
    "RE_score = clf.score(X_test, y_test)*100\n",
    "\n",
    "# display the score with 2 digits only \n",
    "RegTreeScore=float('{0:.2f}'.format(RE_score))\n",
    "\n",
    "print(f\"Model Score :\",RegTreeScore)"
   ]
  },
  {
   "cell_type": "markdown",
   "id": "440b27df",
   "metadata": {},
   "source": [
    "# Energy Sector"
   ]
  },
  {
   "cell_type": "code",
   "execution_count": 191,
   "id": "74cec4c2",
   "metadata": {},
   "outputs": [
    {
     "data": {
      "text/plain": [
       "Index(['Company_Name', 'Value_Traded', 'Volume_Traded', 'Price_Change',\n",
       "       '%_Change', 'Year', 'Month', 'Open', 'Close'],\n",
       "      dtype='object')"
      ]
     },
     "execution_count": 191,
     "metadata": {},
     "output_type": "execute_result"
    }
   ],
   "source": [
    "# return only numeric columns names\n",
    "\n",
    "numeric_features = X_train_E.describe().columns \n",
    "\n",
    "numeric_features"
   ]
  },
  {
   "cell_type": "code",
   "execution_count": 200,
   "id": "5c804895",
   "metadata": {},
   "outputs": [
    {
     "name": "stdout",
     "output_type": "stream",
     "text": [
      "Model Score : 94.75\n"
     ]
    }
   ],
   "source": [
    "# Create a transformer for numeric columns\n",
    "\n",
    "numeric_transformer = Pipeline(\n",
    "    steps=[\n",
    "        \n",
    "        ('imputer', SimpleImputer()),\n",
    "        ('scaler', StandardScaler())\n",
    "    ]\n",
    ")\n",
    "\n",
    "\n",
    "# Create a preprocessor transformer\n",
    "preprocessor = ColumnTransformer(\n",
    "    transformers=[\n",
    "        ('num', numeric_transformer, numeric_features)\n",
    "        \n",
    "    ]\n",
    ")\n",
    "\n",
    "# Append classifier to preprocessing pipeline.\n",
    "# Now we have a full prediction pipeline.\n",
    "clf = Pipeline(\n",
    "    steps=[\n",
    "        ('preprocessor', preprocessor),\n",
    "        ('classifier',RandomForestRegressor(n_estimators = 10, random_state = 0, criterion = 'mse'))\n",
    "    ]\n",
    ")\n",
    "\n",
    "clf.fit(X_train_E, y_train_E)\n",
    "\n",
    " # Find out the pipline score\n",
    "RE_score_E = clf.score(X_test_E, y_test_E)*100\n",
    "\n",
    "# display the score with 2 digits only \n",
    "RegTreeScore_E=float('{0:.2f}'.format(RE_score_E))\n",
    "\n",
    "print(f\"Model Score :\",RegTreeScore_E)"
   ]
  }
 ],
 "metadata": {
  "kernelspec": {
   "display_name": "Python 3 (ipykernel)",
   "language": "python",
   "name": "python3"
  },
  "language_info": {
   "codemirror_mode": {
    "name": "ipython",
    "version": 3
   },
   "file_extension": ".py",
   "mimetype": "text/x-python",
   "name": "python",
   "nbconvert_exporter": "python",
   "pygments_lexer": "ipython3",
   "version": "3.9.12"
  }
 },
 "nbformat": 4,
 "nbformat_minor": 5
}
